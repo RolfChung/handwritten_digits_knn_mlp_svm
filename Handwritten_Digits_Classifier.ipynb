{
 "cells": [
  {
   "cell_type": "markdown",
   "metadata": {},
   "source": [
    "## Summary"
   ]
  },
  {
   "cell_type": "markdown",
   "metadata": {},
   "source": [
    "<p>\n",
    "In this project models based on the k-nearest neighbors algorithm (KNN) and models based on neural networks of type multi layer perceptron (MLP) are developed and applied to the     \n",
    "<a href=\"  https://scikit-learn.org/stable/modules/generated/sklearn.datasets.load_digits.html\">digits dataset (classification)</a>. Each datapoint is a 8x8 image of a digit. The goal is to recognize the images of the hand-written digits. Also a support vector machine base model is built. \n",
    "</p> \n",
    "\n",
    "<p>\n",
    "The models are evaluated with the accuracy-metric.\n",
    "</p> \n",
    "\n",
    "<p>\n",
    "Some of techniques applied here are:\n",
    "</p> \n",
    "\n",
    " <ul>\n",
    "  <li>data visualization</li>\n",
    "  <li>train-test-splits</li>\n",
    "  <li>KFold cross-validation</li>\n",
    "  <li>Feedforward neural network</li>\n",
    "  <li>KNeighborsClassifier</li>\n",
    "  <li>multi layer perceptron classifiers (MLPClassifier)</li>\n",
    "  <li>hyperparameter tuning</li>\n",
    "  <li>scaling</li> \n",
    "  <li>support vector machines</li>\n",
    "    \n",
    "    \n",
    "</ul>"
   ]
  },
  {
   "cell_type": "markdown",
   "metadata": {},
   "source": [
    "## Import packages"
   ]
  },
  {
   "cell_type": "code",
   "execution_count": 826,
   "metadata": {},
   "outputs": [
    {
     "name": "stdout",
     "output_type": "stream",
     "text": [
      "numpy version:  1.16.2\n",
      "SKlearn version:  0.20.3\n"
     ]
    }
   ],
   "source": [
    "import pandas as pd\n",
    "\n",
    "import matplotlib.pyplot as plt\n",
    "%matplotlib inline\n",
    "from matplotlib.pyplot import cm\n",
    "from mpl_toolkits.mplot3d import Axes3D\n",
    "import seaborn as sns\n",
    "\n",
    "plt.rcParams['font.size'] = 11\n",
    "plt.rcParams['font.style'] = 'italic'\n",
    "plt.rcParams['font.family'] = 'monospace'\n",
    "\n",
    "import numpy as np\n",
    "print(\"numpy version: \", np.__version__)\n",
    "import scipy.stats\n",
    "import math\n",
    "import os\n",
    "import types\n",
    "\n",
    "import sklearn\n",
    "print(\"SKlearn version: \", sklearn.__version__)\n",
    "from sklearn.datasets import load_digits\n",
    "from sklearn.neighbors import KNeighborsClassifier\n",
    "from sklearn.model_selection import train_test_split\n",
    "from sklearn.metrics import accuracy_score\n",
    "from sklearn.metrics import confusion_matrix\n",
    "from sklearn.metrics import classification_report\n",
    "from sklearn.model_selection import KFold\n",
    "from sklearn.neural_network import MLPClassifier\n",
    "from sklearn.preprocessing import StandardScaler\n",
    "from sklearn import svm, metrics\n",
    "\n"
   ]
  },
  {
   "cell_type": "markdown",
   "metadata": {},
   "source": [
    "## Import data"
   ]
  },
  {
   "cell_type": "code",
   "execution_count": 827,
   "metadata": {},
   "outputs": [],
   "source": [
    "# Load and return the digits dataset (classification).\n",
    "digits = load_digits()"
   ]
  },
  {
   "cell_type": "markdown",
   "metadata": {},
   "source": [
    "## Explore data"
   ]
  },
  {
   "cell_type": "code",
   "execution_count": 828,
   "metadata": {},
   "outputs": [
    {
     "name": "stdout",
     "output_type": "stream",
     "text": [
      "<class 'sklearn.utils.Bunch'>\n"
     ]
    }
   ],
   "source": [
    "print(type(digits))"
   ]
  },
  {
   "cell_type": "code",
   "execution_count": 829,
   "metadata": {},
   "outputs": [
    {
     "name": "stdout",
     "output_type": "stream",
     "text": [
      "dict_keys(['data', 'target', 'target_names', 'images', 'DESCR'])\n"
     ]
    }
   ],
   "source": [
    "print(digits.keys())"
   ]
  },
  {
   "cell_type": "code",
   "execution_count": 830,
   "metadata": {},
   "outputs": [
    {
     "name": "stdout",
     "output_type": "stream",
     "text": [
      "(1797, 64)\n",
      "<class 'numpy.ndarray'>\n",
      "(1797,)\n",
      "<class 'numpy.ndarray'>\n"
     ]
    }
   ],
   "source": [
    "print(digits.data.shape)\n",
    "print(type(digits.data))\n",
    "print(digits.target.shape)\n",
    "print(type(digits.target))"
   ]
  },
  {
   "cell_type": "code",
   "execution_count": 831,
   "metadata": {},
   "outputs": [
    {
     "name": "stdout",
     "output_type": "stream",
     "text": [
      "[0 1 2 3 4 5 6 7 8 9]\n"
     ]
    }
   ],
   "source": [
    "print(digits.target_names)"
   ]
  },
  {
   "cell_type": "code",
   "execution_count": 832,
   "metadata": {},
   "outputs": [
    {
     "name": "stdout",
     "output_type": "stream",
     "text": [
      "(1797, 8, 8)\n",
      "[[[ 0.  0.  5. 13.  9.  1.  0.  0.]\n",
      "  [ 0.  0. 13. 15. 10. 15.  5.  0.]\n",
      "  [ 0.  3. 15.  2.  0. 11.  8.  0.]\n",
      "  [ 0.  4. 12.  0.  0.  8.  8.  0.]\n",
      "  [ 0.  5.  8.  0.  0.  9.  8.  0.]\n",
      "  [ 0.  4. 11.  0.  1. 12.  7.  0.]\n",
      "  [ 0.  2. 14.  5. 10. 12.  0.  0.]\n",
      "  [ 0.  0.  6. 13. 10.  0.  0.  0.]]]\n"
     ]
    }
   ],
   "source": [
    "print(digits.images.shape)\n",
    "print(digits.images[:1])"
   ]
  },
  {
   "cell_type": "code",
   "execution_count": 833,
   "metadata": {},
   "outputs": [
    {
     "name": "stdout",
     "output_type": "stream",
     "text": [
      ".. _digits_dataset:\n",
      "\n",
      "Optical recognition of handwritten digits dataset\n",
      "--------------------------------------------------\n",
      "\n",
      "**Data Set Characteristics:**\n",
      "\n",
      "    :Number of Instances: 5620\n",
      "    :Number of Attributes: 64\n",
      "    :Attribute Information: 8x8 image of integer pixels in the range 0..16.\n",
      "    :Miss\n"
     ]
    }
   ],
   "source": [
    "print(digits.DESCR[:300])"
   ]
  },
  {
   "cell_type": "markdown",
   "metadata": {},
   "source": [
    "#### Looking at selected images"
   ]
  },
  {
   "cell_type": "code",
   "execution_count": 834,
   "metadata": {},
   "outputs": [
    {
     "data": {
      "text/plain": [
       "<Figure size 432x288 with 0 Axes>"
      ]
     },
     "metadata": {},
     "output_type": "display_data"
    },
    {
     "data": {
      "image/png": "[encoded data removed]",
      "text/plain": [
       "<Figure size 288x288 with 1 Axes>"
      ]
     },
     "metadata": {
      "needs_background": "light"
     },
     "output_type": "display_data"
    }
   ],
   "source": [
    "plt.gray() \n",
    "plt.matshow(digits.images[0]) \n",
    "plt.show() "
   ]
  },
  {
   "cell_type": "code",
   "execution_count": 835,
   "metadata": {},
   "outputs": [
    {
     "data": {
      "text/plain": [
       "<Figure size 432x288 with 0 Axes>"
      ]
     },
     "metadata": {},
     "output_type": "display_data"
    },
    {
     "data": {
      "image/png": "[encoded data removed]",
      "text/plain": [
       "<Figure size 288x288 with 1 Axes>"
      ]
     },
     "metadata": {
      "needs_background": "light"
     },
     "output_type": "display_data"
    }
   ],
   "source": [
    "plt.gray() \n",
    "plt.matshow(digits.images[500]) \n",
    "plt.show()"
   ]
  },
  {
   "cell_type": "code",
   "execution_count": 836,
   "metadata": {},
   "outputs": [
    {
     "data": {
      "image/png": "[encoded data removed]",
      "text/plain": [
       "<Figure size 1080x576 with 8 Axes>"
      ]
     },
     "metadata": {
      "needs_background": "light"
     },
     "output_type": "display_data"
    }
   ],
   "source": [
    "# image are stored as rows, the columns or features are pixels of the image\n",
    "# the image is built from a array of pixels\n",
    "\n",
    "selection_images = [0, 100, 200, 300, 1000, 1100, 1200, 1300] \n",
    "\n",
    "rows =    [0,0,0,0,1,1,1,1]\n",
    "columns = [0,1,2,3,0,1,2,3]\n",
    "\n",
    "fig, ax = plt.subplots(2,4, figsize=(15,8), \n",
    "                       gridspec_kw=dict(left=0.1, right=0.9,\n",
    "                                        bottom=0.2, top=0.9))\n",
    "plt.subplots_adjust(wspace=0.3, hspace=0.3)\n",
    "plt.suptitle(\"Selected images from the handwritten digits dataset\")\n",
    "\n",
    "for i,k,d in zip(rows, columns, selection_images):\n",
    "    plt.gray() \n",
    "    ax[i,k].matshow(digits.images[d]) \n",
    "    ax[i,k].set_title(\"Image:{}\".format(d))\n",
    "plt.show()\n",
    "    \n"
   ]
  },
  {
   "cell_type": "markdown",
   "metadata": {},
   "source": [
    "##### Feature values"
   ]
  },
  {
   "cell_type": "code",
   "execution_count": 837,
   "metadata": {},
   "outputs": [
    {
     "name": "stdout",
     "output_type": "stream",
     "text": [
      "(1797, 64)\n",
      "RangeIndex(start=0, stop=64, step=1)\n",
      "    0    1    2     3     4     5    6    7    8    9   ...   54   55   56  \\\n",
      "0  0.0  0.0  5.0  13.0   9.0   1.0  0.0  0.0  0.0  0.0  ...  0.0  0.0  0.0   \n",
      "1  0.0  0.0  0.0  12.0  13.0   5.0  0.0  0.0  0.0  0.0  ...  0.0  0.0  0.0   \n",
      "2  0.0  0.0  0.0   4.0  15.0  12.0  0.0  0.0  0.0  0.0  ...  5.0  0.0  0.0   \n",
      "3  0.0  0.0  7.0  15.0  13.0   1.0  0.0  0.0  0.0  8.0  ...  9.0  0.0  0.0   \n",
      "4  0.0  0.0  0.0   1.0  11.0   0.0  0.0  0.0  0.0  0.0  ...  0.0  0.0  0.0   \n",
      "\n",
      "    57   58    59    60    61   62   63  \n",
      "0  0.0  6.0  13.0  10.0   0.0  0.0  0.0  \n",
      "1  0.0  0.0  11.0  16.0  10.0  0.0  0.0  \n",
      "2  0.0  0.0   3.0  11.0  16.0  9.0  0.0  \n",
      "3  0.0  7.0  13.0  13.0   9.0  0.0  0.0  \n",
      "4  0.0  0.0   2.0  16.0   4.0  0.0  0.0  \n",
      "\n",
      "[5 rows x 64 columns]\n",
      "<class 'pandas.core.frame.DataFrame'>\n",
      "RangeIndex: 1797 entries, 0 to 1796\n",
      "Columns: 64 entries, 0 to 63\n",
      "dtypes: float64(64)\n",
      "memory usage: 898.6 KB\n",
      "None\n"
     ]
    }
   ],
   "source": [
    "data_df = pd.DataFrame(digits.data)\n",
    "\n",
    "print(data_df.shape)\n",
    "print(data_df.columns)\n",
    "print(data_df.head())\n",
    "print(data_df.info(verbose=False))"
   ]
  },
  {
   "cell_type": "markdown",
   "metadata": {},
   "source": [
    "<b>Looking at the distributions</b>"
   ]
  },
  {
   "cell_type": "code",
   "execution_count": 838,
   "metadata": {},
   "outputs": [
    {
     "data": {
      "text/plain": [
       "(array([35.,  5.,  1.,  4.,  4.,  2.,  4.,  2.,  2.,  5.]),\n",
       " array([ 0. ,  1.6,  3.2,  4.8,  6.4,  8. ,  9.6, 11.2, 12.8, 14.4, 16. ]),\n",
       " <a list of 10 Patch objects>)"
      ]
     },
     "execution_count": 838,
     "metadata": {},
     "output_type": "execute_result"
    },
    {
     "data": {
      "image/png": "[encoded data removed]",
      "text/plain": [
       "<Figure size 432x288 with 1 Axes>"
      ]
     },
     "metadata": {
      "needs_background": "light"
     },
     "output_type": "display_data"
    }
   ],
   "source": [
    "plt.hist(data_df.iloc[1400])"
   ]
  },
  {
   "cell_type": "code",
   "execution_count": 839,
   "metadata": {},
   "outputs": [
    {
     "data": {
      "text/plain": [
       "(array([37.,  6.,  1.,  0.,  1.,  1.,  0.,  2.,  6., 10.]),\n",
       " array([ 0. ,  1.6,  3.2,  4.8,  6.4,  8. ,  9.6, 11.2, 12.8, 14.4, 16. ]),\n",
       " <a list of 10 Patch objects>)"
      ]
     },
     "execution_count": 839,
     "metadata": {},
     "output_type": "execute_result"
    },
    {
     "data": {
      "image/png": "[encoded data removed]",
      "text/plain": [
       "<Figure size 432x288 with 1 Axes>"
      ]
     },
     "metadata": {
      "needs_background": "light"
     },
     "output_type": "display_data"
    }
   ],
   "source": [
    "plt.hist(data_df.iloc[1500])"
   ]
  },
  {
   "cell_type": "code",
   "execution_count": 840,
   "metadata": {},
   "outputs": [
    {
     "name": "stdout",
     "output_type": "stream",
     "text": [
      "[324, 444, 315, 1501, 371, 236]\n",
      "324\n",
      "444\n",
      "315\n",
      "1501\n",
      "371\n",
      "236\n",
      "0 0 324\n",
      "0 1 444\n",
      "0 2 315\n",
      "0 3 1501\n",
      "1 0 371\n",
      "1 1 236\n"
     ]
    },
    {
     "data": {
      "image/png": "[encoded data removed]",
      "text/plain": [
       "<Figure size 720x576 with 6 Axes>"
      ]
     },
     "metadata": {
      "needs_background": "light"
     },
     "output_type": "display_data"
    }
   ],
   "source": [
    "selection_1 = list(np.random.randint(1,1700,6))\n",
    "print(selection_1)\n",
    "\n",
    "rows_2 =    [0,0,0,1,1,1]\n",
    "columns_2 = [0,1,2,0,1,2]\n",
    "\n",
    "\n",
    "for z in selection_1:\n",
    "    print(z)\n",
    "\n",
    "for m,k,d in zip(rows, columns, selection_1):\n",
    "    print(m,k,d)\n",
    "    \n",
    "colors = ['red', 'blue', 'green', 'gold', 'black', \"white\"]\n",
    "\n",
    "fig, ax = plt.subplots(2, 3, figsize=(10,8))\n",
    "plt.suptitle(\"Distributions of randomly selected variables\")\n",
    "\n",
    "for i,n,d, e in zip(rows_2, columns_2, selection_1, colors):\n",
    "    ax[i,n].hist(data_df.iloc[d], color=e, edgecolor=\"red\", linewidth=1.5)\n",
    "    \n",
    "# right skewed"
   ]
  },
  {
   "cell_type": "markdown",
   "metadata": {},
   "source": [
    "##### Target values"
   ]
  },
  {
   "cell_type": "code",
   "execution_count": 841,
   "metadata": {},
   "outputs": [
    {
     "name": "stdout",
     "output_type": "stream",
     "text": [
      "(1797, 1)\n",
      "RangeIndex(start=0, stop=1, step=1)\n",
      "   0\n",
      "0  0\n",
      "1  1\n",
      "2  2\n",
      "3  3\n",
      "4  4\n",
      "<class 'pandas.core.frame.DataFrame'>\n",
      "RangeIndex: 1797 entries, 0 to 1796\n",
      "Columns: 1 entries, 0 to 0\n",
      "dtypes: int32(1)\n",
      "memory usage: 7.1 KB\n",
      "None\n"
     ]
    }
   ],
   "source": [
    "target_df = pd.DataFrame(digits.target)\n",
    "\n",
    "print(target_df.shape)\n",
    "print(target_df.columns)\n",
    "print(target_df.head())\n",
    "print(target_df.info(verbose=False))"
   ]
  },
  {
   "cell_type": "code",
   "execution_count": 842,
   "metadata": {},
   "outputs": [
    {
     "data": {
      "image/png": "[encoded data removed]",
      "text/plain": [
       "<Figure size 432x288 with 1 Axes>"
      ]
     },
     "metadata": {
      "needs_background": "light"
     },
     "output_type": "display_data"
    }
   ],
   "source": [
    "fig, ax1 = plt.subplots(1)\n",
    "ax1.hist(target_df[0], edgecolor='red', linewidth=1.5)\n",
    "ax1.set_title(\"Distribution of the target variable\")\n",
    "ax1.set_xlabel(\"Values\")\n",
    "ax1.set_ylabel(\"Frequency\")\n",
    "plt.show()\n",
    "# Looks uniform"
   ]
  },
  {
   "cell_type": "code",
   "execution_count": 843,
   "metadata": {},
   "outputs": [
    {
     "name": "stdout",
     "output_type": "stream",
     "text": [
      "[0]\n",
      "[[0.66666667 0.33333333]]\n"
     ]
    }
   ],
   "source": [
    "X = [[0], [1], [2], [3]]\n",
    ">>> y = [0, 0, 1, 1]\n",
    ">>> from sklearn.neighbors import KNeighborsClassifier\n",
    ">>> neigh = KNeighborsClassifier(n_neighbors=3)\n",
    ">>> neigh.fit(X, y) \n",
    "KNeighborsClassifier()\n",
    ">>> print(neigh.predict([[1.1]]))\n",
    "[0]\n",
    ">>> print(neigh.predict_proba([[0.9]]))\n"
   ]
  },
  {
   "cell_type": "code",
   "execution_count": 844,
   "metadata": {},
   "outputs": [],
   "source": [
    "def train_model(features, labels):\n",
    "    X_train, \n",
    "    linear_clf = SGDRegressor(max_iter=1000, tol=1e-3)\n",
    "    linear_clf.fit(features, labels)\n",
    "    weights = linear_clf.coef_\n",
    "    return weights"
   ]
  },
  {
   "cell_type": "markdown",
   "metadata": {},
   "source": [
    "## Data modeling with the KNeighborsClassifier \n",
    "\n",
    "<p>\n",
    "This classifier implements the K nearest neighbors vote to\n",
    "determine the label of the object.\n",
    "</p> "
   ]
  },
  {
   "cell_type": "markdown",
   "metadata": {},
   "source": [
    "#### Calculating the accuracy score."
   ]
  },
  {
   "cell_type": "code",
   "execution_count": 845,
   "metadata": {},
   "outputs": [],
   "source": [
    "def accuracy_knn(X, y,n):\n",
    "    X_train, X_test, y_train, y_test = \\\n",
    "    train_test_split(X,y, test_size=0.3, random_state=42)\n",
    "    knn_clf = KNeighborsClassifier(n_neighbors=n)\n",
    "    knn_clf.fit(X,y)\n",
    "    knn_predictions = knn_clf.predict(X_test)\n",
    "    accuracy = accuracy_score(y_test, knn_predictions)\n",
    "    return accuracy\n",
    "    "
   ]
  },
  {
   "cell_type": "code",
   "execution_count": 846,
   "metadata": {},
   "outputs": [
    {
     "name": "stdout",
     "output_type": "stream",
     "text": [
      "0.99259\n"
     ]
    }
   ],
   "source": [
    "accuracy_1 = \\\n",
    "round(accuracy_knn(data_df, np.array(target_df).ravel(), 9),5)\n",
    "print(accuracy_1)"
   ]
  },
  {
   "cell_type": "markdown",
   "metadata": {},
   "source": [
    "Making specialized functions allowing for greater flexibility."
   ]
  },
  {
   "cell_type": "markdown",
   "metadata": {},
   "source": [
    "##### Doing a train-test-split"
   ]
  },
  {
   "cell_type": "code",
   "execution_count": 847,
   "metadata": {},
   "outputs": [
    {
     "name": "stdout",
     "output_type": "stream",
     "text": [
      "<class 'pandas.core.frame.DataFrame'>\n",
      "<class 'pandas.core.frame.DataFrame'>\n",
      "<class 'list'>\n"
     ]
    }
   ],
   "source": [
    "X_train_1, X_test_1, y_train_1, y_test_1 = \\\n",
    "train_test_split(data_df, target_df, test_size=0.3, random_state=42)\n",
    "\n",
    "print(type(X_train_1))\n",
    "print(type(y_train_1))\n",
    "print(type([1,2,3]))"
   ]
  },
  {
   "cell_type": "markdown",
   "metadata": {},
   "source": [
    "##### Training a knn-model"
   ]
  },
  {
   "cell_type": "code",
   "execution_count": 848,
   "metadata": {},
   "outputs": [],
   "source": [
    "def knn_train(X_train, y_train, n):\n",
    "    # making sure a one dimensional numpy array is provided\n",
    "    if isinstance(y_train, pd.DataFrame) \\\n",
    "    or isinstance(y_train, list):\n",
    "        y_train = np.array(y_train).ravel()\n",
    "    \n",
    "    knn_clf = KNeighborsClassifier(n_neighbors=n)\n",
    "    knn_clf.fit(X_train,y_train)\n",
    "    return knn_clf"
   ]
  },
  {
   "cell_type": "code",
   "execution_count": 849,
   "metadata": {},
   "outputs": [
    {
     "data": {
      "text/plain": [
       "KNeighborsClassifier(algorithm='auto', leaf_size=30, metric='minkowski',\n",
       "           metric_params=None, n_jobs=None, n_neighbors=5, p=2,\n",
       "           weights='uniform')"
      ]
     },
     "execution_count": 849,
     "metadata": {},
     "output_type": "execute_result"
    }
   ],
   "source": [
    "knn_1_5 = knn_train(X_train_1, y_train_1, n=5)\n",
    "knn_1_5"
   ]
  },
  {
   "cell_type": "markdown",
   "metadata": {},
   "source": [
    "##### Testing a knn model with a confusion matrix"
   ]
  },
  {
   "cell_type": "code",
   "execution_count": 850,
   "metadata": {},
   "outputs": [],
   "source": [
    "def knn_test(knn_model, X_test):\n",
    "    # input is model trained before\n",
    "    knn_predictions = knn_model.predict(X_test)\n",
    "    return knn_predictions"
   ]
  },
  {
   "cell_type": "code",
   "execution_count": 851,
   "metadata": {},
   "outputs": [
    {
     "name": "stdout",
     "output_type": "stream",
     "text": [
      "<class 'numpy.ndarray'>\n",
      "(540,)\n",
      "[9, 1, 3, 6, 9, 6, 4, 7, 4, 2]\n"
     ]
    }
   ],
   "source": [
    "knn_test_1_5 = knn_test(knn_5, X_test_1)\n",
    "\n",
    "print(type(knn_test_1_5 ))\n",
    "print(knn_test_1_5.shape)\n",
    "print([i for i in knn_test_1_5 [np.arange(1,500, 50)]])"
   ]
  },
  {
   "cell_type": "markdown",
   "metadata": {},
   "source": [
    "##### Comparing actual values / labels with predictions."
   ]
  },
  {
   "cell_type": "code",
   "execution_count": 852,
   "metadata": {},
   "outputs": [
    {
     "name": "stdout",
     "output_type": "stream",
     "text": [
      "(540, 1)\n",
      "(540,)\n"
     ]
    }
   ],
   "source": [
    "print(y_test_1.shape)\n",
    "print(knn_test_1_5.shape)"
   ]
  },
  {
   "cell_type": "code",
   "execution_count": 853,
   "metadata": {},
   "outputs": [
    {
     "name": "stdout",
     "output_type": "stream",
     "text": [
      "11\n",
      "      Labels  Predictions  diff\n",
      "1245       6            6     0\n",
      "220        9            9     0\n",
      "1518       3            3     0\n",
      "438        7            7     0\n",
      "1270       2            2     0\n"
     ]
    }
   ],
   "source": [
    "dict_1 = {'Labels': y_test_1[0], 'Predictions':knn_test_5}\n",
    "df_1 = pd.DataFrame(dict_1)\n",
    "df_1['diff'] = df_1.Labels -  df_1.Predictions\n",
    "\n",
    "print(df_1['diff'].sum())\n",
    "print(df_1.head())"
   ]
  },
  {
   "cell_type": "code",
   "execution_count": 854,
   "metadata": {},
   "outputs": [
    {
     "data": {
      "text/html": [
       "<div>\n",
       "<style scoped>\n",
       "    .dataframe tbody tr th:only-of-type {\n",
       "        vertical-align: middle;\n",
       "    }\n",
       "\n",
       "    .dataframe tbody tr th {\n",
       "        vertical-align: top;\n",
       "    }\n",
       "\n",
       "    .dataframe thead th {\n",
       "        text-align: right;\n",
       "    }\n",
       "</style>\n",
       "<table border=\"1\" class=\"dataframe\">\n",
       "  <thead>\n",
       "    <tr style=\"text-align: right;\">\n",
       "      <th>Predictions</th>\n",
       "      <th>0</th>\n",
       "      <th>1</th>\n",
       "      <th>2</th>\n",
       "      <th>3</th>\n",
       "      <th>4</th>\n",
       "      <th>5</th>\n",
       "      <th>6</th>\n",
       "      <th>7</th>\n",
       "      <th>8</th>\n",
       "      <th>9</th>\n",
       "    </tr>\n",
       "    <tr>\n",
       "      <th>Labels</th>\n",
       "      <th></th>\n",
       "      <th></th>\n",
       "      <th></th>\n",
       "      <th></th>\n",
       "      <th></th>\n",
       "      <th></th>\n",
       "      <th></th>\n",
       "      <th></th>\n",
       "      <th></th>\n",
       "      <th></th>\n",
       "    </tr>\n",
       "  </thead>\n",
       "  <tbody>\n",
       "    <tr>\n",
       "      <th>0</th>\n",
       "      <td>53</td>\n",
       "      <td>0</td>\n",
       "      <td>0</td>\n",
       "      <td>0</td>\n",
       "      <td>0</td>\n",
       "      <td>0</td>\n",
       "      <td>0</td>\n",
       "      <td>0</td>\n",
       "      <td>0</td>\n",
       "      <td>0</td>\n",
       "    </tr>\n",
       "    <tr>\n",
       "      <th>1</th>\n",
       "      <td>0</td>\n",
       "      <td>50</td>\n",
       "      <td>0</td>\n",
       "      <td>0</td>\n",
       "      <td>0</td>\n",
       "      <td>0</td>\n",
       "      <td>0</td>\n",
       "      <td>0</td>\n",
       "      <td>0</td>\n",
       "      <td>0</td>\n",
       "    </tr>\n",
       "    <tr>\n",
       "      <th>2</th>\n",
       "      <td>0</td>\n",
       "      <td>0</td>\n",
       "      <td>47</td>\n",
       "      <td>0</td>\n",
       "      <td>0</td>\n",
       "      <td>0</td>\n",
       "      <td>0</td>\n",
       "      <td>0</td>\n",
       "      <td>0</td>\n",
       "      <td>0</td>\n",
       "    </tr>\n",
       "    <tr>\n",
       "      <th>3</th>\n",
       "      <td>0</td>\n",
       "      <td>0</td>\n",
       "      <td>0</td>\n",
       "      <td>54</td>\n",
       "      <td>0</td>\n",
       "      <td>0</td>\n",
       "      <td>0</td>\n",
       "      <td>0</td>\n",
       "      <td>0</td>\n",
       "      <td>0</td>\n",
       "    </tr>\n",
       "    <tr>\n",
       "      <th>4</th>\n",
       "      <td>0</td>\n",
       "      <td>0</td>\n",
       "      <td>0</td>\n",
       "      <td>0</td>\n",
       "      <td>60</td>\n",
       "      <td>0</td>\n",
       "      <td>0</td>\n",
       "      <td>0</td>\n",
       "      <td>0</td>\n",
       "      <td>0</td>\n",
       "    </tr>\n",
       "    <tr>\n",
       "      <th>5</th>\n",
       "      <td>0</td>\n",
       "      <td>0</td>\n",
       "      <td>0</td>\n",
       "      <td>0</td>\n",
       "      <td>0</td>\n",
       "      <td>65</td>\n",
       "      <td>0</td>\n",
       "      <td>0</td>\n",
       "      <td>0</td>\n",
       "      <td>1</td>\n",
       "    </tr>\n",
       "    <tr>\n",
       "      <th>6</th>\n",
       "      <td>0</td>\n",
       "      <td>0</td>\n",
       "      <td>0</td>\n",
       "      <td>0</td>\n",
       "      <td>0</td>\n",
       "      <td>0</td>\n",
       "      <td>53</td>\n",
       "      <td>0</td>\n",
       "      <td>0</td>\n",
       "      <td>0</td>\n",
       "    </tr>\n",
       "    <tr>\n",
       "      <th>7</th>\n",
       "      <td>0</td>\n",
       "      <td>0</td>\n",
       "      <td>0</td>\n",
       "      <td>0</td>\n",
       "      <td>0</td>\n",
       "      <td>0</td>\n",
       "      <td>0</td>\n",
       "      <td>55</td>\n",
       "      <td>0</td>\n",
       "      <td>0</td>\n",
       "    </tr>\n",
       "    <tr>\n",
       "      <th>8</th>\n",
       "      <td>0</td>\n",
       "      <td>0</td>\n",
       "      <td>0</td>\n",
       "      <td>0</td>\n",
       "      <td>0</td>\n",
       "      <td>0</td>\n",
       "      <td>0</td>\n",
       "      <td>0</td>\n",
       "      <td>43</td>\n",
       "      <td>0</td>\n",
       "    </tr>\n",
       "    <tr>\n",
       "      <th>9</th>\n",
       "      <td>0</td>\n",
       "      <td>0</td>\n",
       "      <td>0</td>\n",
       "      <td>1</td>\n",
       "      <td>1</td>\n",
       "      <td>1</td>\n",
       "      <td>0</td>\n",
       "      <td>0</td>\n",
       "      <td>0</td>\n",
       "      <td>56</td>\n",
       "    </tr>\n",
       "  </tbody>\n",
       "</table>\n",
       "</div>"
      ],
      "text/plain": [
       "Predictions   0   1   2   3   4   5   6   7   8   9\n",
       "Labels                                             \n",
       "0            53   0   0   0   0   0   0   0   0   0\n",
       "1             0  50   0   0   0   0   0   0   0   0\n",
       "2             0   0  47   0   0   0   0   0   0   0\n",
       "3             0   0   0  54   0   0   0   0   0   0\n",
       "4             0   0   0   0  60   0   0   0   0   0\n",
       "5             0   0   0   0   0  65   0   0   0   1\n",
       "6             0   0   0   0   0   0  53   0   0   0\n",
       "7             0   0   0   0   0   0   0  55   0   0\n",
       "8             0   0   0   0   0   0   0   0  43   0\n",
       "9             0   0   0   1   1   1   0   0   0  56"
      ]
     },
     "execution_count": 854,
     "metadata": {},
     "output_type": "execute_result"
    }
   ],
   "source": [
    "cross_1 = pd.crosstab(index=df_1.Labels, columns=df_1.Predictions)\n",
    "cross_1"
   ]
  },
  {
   "cell_type": "code",
   "execution_count": 855,
   "metadata": {},
   "outputs": [
    {
     "data": {
      "text/plain": [
       "array([[53,  0,  0,  0,  0,  0,  0,  0,  0,  0],\n",
       "       [ 0, 50,  0,  0,  0,  0,  0,  0,  0,  0],\n",
       "       [ 0,  0, 47,  0,  0,  0,  0,  0,  0,  0],\n",
       "       [ 0,  0,  0, 54,  0,  0,  0,  0,  0,  0],\n",
       "       [ 0,  0,  0,  0, 60,  0,  0,  0,  0,  0],\n",
       "       [ 0,  0,  0,  0,  0, 65,  0,  0,  0,  1],\n",
       "       [ 0,  0,  0,  0,  0,  0, 53,  0,  0,  0],\n",
       "       [ 0,  0,  0,  0,  0,  0,  0, 55,  0,  0],\n",
       "       [ 0,  0,  0,  0,  0,  0,  0,  0, 43,  0],\n",
       "       [ 0,  0,  0,  1,  1,  1,  0,  0,  0, 56]], dtype=int64)"
      ]
     },
     "execution_count": 855,
     "metadata": {},
     "output_type": "execute_result"
    }
   ],
   "source": [
    "confusion_1 = confusion_matrix(df_1.Labels, df_1.Predictions)\n",
    "confusion_1"
   ]
  },
  {
   "cell_type": "code",
   "execution_count": 856,
   "metadata": {},
   "outputs": [
    {
     "name": "stdout",
     "output_type": "stream",
     "text": [
      "              precision    recall  f1-score   support\n",
      "\n",
      "           0       1.00      1.00      1.00        53\n",
      "           1       1.00      1.00      1.00        50\n",
      "           2       1.00      1.00      1.00        47\n",
      "           3       0.98      1.00      0.99        54\n",
      "           4       0.98      1.00      0.99        60\n",
      "           5       0.98      0.98      0.98        66\n",
      "           6       1.00      1.00      1.00        53\n",
      "           7       1.00      1.00      1.00        55\n",
      "           8       1.00      1.00      1.00        43\n",
      "           9       0.98      0.95      0.97        59\n",
      "\n",
      "   micro avg       0.99      0.99      0.99       540\n",
      "   macro avg       0.99      0.99      0.99       540\n",
      "weighted avg       0.99      0.99      0.99       540\n",
      "\n"
     ]
    }
   ],
   "source": [
    "report_1 = classification_report(df_1.Labels, df_1.Predictions)\n",
    "print(report_1)"
   ]
  },
  {
   "cell_type": "markdown",
   "metadata": {},
   "source": [
    "<b>Testing a knn model with accuracy</b>"
   ]
  },
  {
   "cell_type": "code",
   "execution_count": 857,
   "metadata": {},
   "outputs": [],
   "source": [
    "def knn_test_accuracy(knn_model, X_test, y_test):\n",
    "        # input is model trained before\n",
    "        knn_predictions = knn_model.predict(X_test)\n",
    "        accuracy = \\\n",
    "        round(accuracy_score(knn_predictions,  y_test), 4)\n",
    "        return accuracy"
   ]
  },
  {
   "cell_type": "code",
   "execution_count": 858,
   "metadata": {},
   "outputs": [
    {
     "name": "stdout",
     "output_type": "stream",
     "text": [
      "0.9926\n"
     ]
    }
   ],
   "source": [
    "accuracy_2 = \\\n",
    "knn_test_accuracy(knn_model=knn_1_5, X_test=X_test_1, y_test=y_test_1)\n",
    "\n",
    "print(accuracy_2)"
   ]
  },
  {
   "cell_type": "code",
   "execution_count": 859,
   "metadata": {},
   "outputs": [
    {
     "data": {
      "text/html": [
       "<div>\n",
       "<style scoped>\n",
       "    .dataframe tbody tr th:only-of-type {\n",
       "        vertical-align: middle;\n",
       "    }\n",
       "\n",
       "    .dataframe tbody tr th {\n",
       "        vertical-align: top;\n",
       "    }\n",
       "\n",
       "    .dataframe thead th {\n",
       "        text-align: right;\n",
       "    }\n",
       "</style>\n",
       "<table border=\"1\" class=\"dataframe\">\n",
       "  <thead>\n",
       "    <tr style=\"text-align: right;\">\n",
       "      <th></th>\n",
       "      <th>model</th>\n",
       "      <th>accuracy</th>\n",
       "    </tr>\n",
       "  </thead>\n",
       "  <tbody>\n",
       "    <tr>\n",
       "      <th>0</th>\n",
       "      <td>knn_9</td>\n",
       "      <td>0.99259</td>\n",
       "    </tr>\n",
       "    <tr>\n",
       "      <th>1</th>\n",
       "      <td>knn_5</td>\n",
       "      <td>0.99260</td>\n",
       "    </tr>\n",
       "  </tbody>\n",
       "</table>\n",
       "</div>"
      ],
      "text/plain": [
       "   model  accuracy\n",
       "0  knn_9   0.99259\n",
       "1  knn_5   0.99260"
      ]
     },
     "execution_count": 859,
     "metadata": {},
     "output_type": "execute_result"
    }
   ],
   "source": [
    "dict_2 = \\\n",
    "{'model' : ['knn_9', 'knn_5'], 'accuracy' : [accuracy_1, accuracy_2]}\n",
    "\n",
    "df_2 = pd.DataFrame(dict_2)\n",
    "df_2"
   ]
  },
  {
   "cell_type": "markdown",
   "metadata": {},
   "source": [
    "The knn model with 5 neighbors generates a slightly better result."
   ]
  },
  {
   "cell_type": "markdown",
   "metadata": {},
   "source": [
    "<b>Conducting a cross validation</b>"
   ]
  },
  {
   "cell_type": "code",
   "execution_count": 860,
   "metadata": {},
   "outputs": [
    {
     "name": "stdout",
     "output_type": "stream",
     "text": [
      "(1797, 1)\n",
      "<class 'pandas.core.frame.DataFrame'>\n"
     ]
    }
   ],
   "source": [
    "print(target_df.shape)\n",
    "print(type(target_df))"
   ]
  },
  {
   "cell_type": "code",
   "execution_count": 861,
   "metadata": {},
   "outputs": [],
   "source": [
    "\n",
    "def kfold_cross_validation(X_features, y_labels, n, split):\n",
    "    \n",
    "    fold_accuracies = []\n",
    "    kf_ZZ = KFold(n_splits=split)\n",
    "\n",
    "    for train_index_1, test_index_1 in kf_ZZ.split(data_df):\n",
    "        \n",
    "\n",
    "    \n",
    "        X_train_2, X_test_2 = \\\n",
    "        X_features.loc[train_index_1], X_features.loc[test_index_1]\n",
    "        y_train_2, y_test_2 = \\\n",
    "        y_labels.loc[train_index_1], y_labels.loc[test_index_1]\n",
    "\n",
    "        knn_model = knn_train(X_train_2, y_train_2, n)\n",
    "        knn_accuracy = knn_test_accuracy(knn_model, X_test_2, y_test_2)\n",
    "        fold_accuracies.append(knn_accuracy)\n",
    "\n",
    "    return fold_accuracies\n",
    "\n"
   ]
  },
  {
   "cell_type": "code",
   "execution_count": 862,
   "metadata": {},
   "outputs": [
    {
     "name": "stdout",
     "output_type": "stream",
     "text": [
      "[0.9649, 0.9666, 0.9699]\n",
      "0.9671\n"
     ]
    }
   ],
   "source": [
    "kfold_cv_1 = \\\n",
    "kfold_cross_validation(X_features=data_df, y_labels=target_df, n=3, \n",
    "                       split=3)\n",
    "\n",
    "print(kfold_1)\n",
    "kfold_1_mean = round(np.mean(kfold_1), 4)\n",
    "print(kfold_1_mean)"
   ]
  },
  {
   "cell_type": "code",
   "execution_count": 863,
   "metadata": {},
   "outputs": [
    {
     "data": {
      "text/html": [
       "<div>\n",
       "<style scoped>\n",
       "    .dataframe tbody tr th:only-of-type {\n",
       "        vertical-align: middle;\n",
       "    }\n",
       "\n",
       "    .dataframe tbody tr th {\n",
       "        vertical-align: top;\n",
       "    }\n",
       "\n",
       "    .dataframe thead th {\n",
       "        text-align: right;\n",
       "    }\n",
       "</style>\n",
       "<table border=\"1\" class=\"dataframe\">\n",
       "  <thead>\n",
       "    <tr style=\"text-align: right;\">\n",
       "      <th></th>\n",
       "      <th>model</th>\n",
       "      <th>accuracy</th>\n",
       "    </tr>\n",
       "  </thead>\n",
       "  <tbody>\n",
       "    <tr>\n",
       "      <th>0</th>\n",
       "      <td>knn_9</td>\n",
       "      <td>0.99259</td>\n",
       "    </tr>\n",
       "    <tr>\n",
       "      <th>1</th>\n",
       "      <td>knn_5</td>\n",
       "      <td>0.99260</td>\n",
       "    </tr>\n",
       "    <tr>\n",
       "      <th>2</th>\n",
       "      <td>kfold_cv_1</td>\n",
       "      <td>0.96710</td>\n",
       "    </tr>\n",
       "  </tbody>\n",
       "</table>\n",
       "</div>"
      ],
      "text/plain": [
       "        model  accuracy\n",
       "0       knn_9   0.99259\n",
       "1       knn_5   0.99260\n",
       "2  kfold_cv_1   0.96710"
      ]
     },
     "execution_count": 863,
     "metadata": {},
     "output_type": "execute_result"
    }
   ],
   "source": [
    "newrow_1 = {'model': 'kfold_cv_1' , 'accuracy': kfold_1_mean}\n",
    "\n",
    "df_2 = df_2.append(newrow_1, ignore_index=True)\n",
    "df_2"
   ]
  },
  {
   "cell_type": "markdown",
   "metadata": {},
   "source": [
    "The average accuracy of the kfold knn model with 3 splits and 3 neighbors\n",
    "is not better than that of the other models. However keep in mind that\n",
    "cross validation is not only done for generating good predictions but\n",
    "also to make predictions more stable depending on the train-test-split."
   ]
  },
  {
   "cell_type": "code",
   "execution_count": 864,
   "metadata": {},
   "outputs": [],
   "source": [
    "\n",
    "splits_n = [2,3,4,5,6, 7, 8, 9]\n",
    "\n",
    "\n",
    "mean_accuracies_cv = []\n",
    "\n",
    "for i in splits_n:\n",
    "    acc_list = \\\n",
    "    kfold_cross_validation(X_features=data_df,\n",
    "                           y_labels=target_df, \n",
    "                           n=i,\n",
    "                           split=i)\n",
    "    average = round(np.mean(acc_list),4)\n",
    "    mean_accuracies_cv.append(average)\n",
    "\n",
    "    "
   ]
  },
  {
   "cell_type": "code",
   "execution_count": 865,
   "metadata": {},
   "outputs": [
    {
     "name": "stdout",
     "output_type": "stream",
     "text": [
      "[0.9527, 0.9671, 0.965, 0.9644, 0.9672, 0.9594, 0.9616, 0.9611]\n"
     ]
    },
    {
     "data": {
      "text/html": [
       "<div>\n",
       "<style scoped>\n",
       "    .dataframe tbody tr th:only-of-type {\n",
       "        vertical-align: middle;\n",
       "    }\n",
       "\n",
       "    .dataframe tbody tr th {\n",
       "        vertical-align: top;\n",
       "    }\n",
       "\n",
       "    .dataframe thead th {\n",
       "        text-align: right;\n",
       "    }\n",
       "</style>\n",
       "<table border=\"1\" class=\"dataframe\">\n",
       "  <thead>\n",
       "    <tr style=\"text-align: right;\">\n",
       "      <th></th>\n",
       "      <th>splits / knn</th>\n",
       "      <th>mean_accuracy</th>\n",
       "    </tr>\n",
       "  </thead>\n",
       "  <tbody>\n",
       "    <tr>\n",
       "      <th>0</th>\n",
       "      <td>2</td>\n",
       "      <td>0.9527</td>\n",
       "    </tr>\n",
       "    <tr>\n",
       "      <th>1</th>\n",
       "      <td>3</td>\n",
       "      <td>0.9671</td>\n",
       "    </tr>\n",
       "    <tr>\n",
       "      <th>2</th>\n",
       "      <td>4</td>\n",
       "      <td>0.9650</td>\n",
       "    </tr>\n",
       "    <tr>\n",
       "      <th>3</th>\n",
       "      <td>5</td>\n",
       "      <td>0.9644</td>\n",
       "    </tr>\n",
       "    <tr>\n",
       "      <th>4</th>\n",
       "      <td>6</td>\n",
       "      <td>0.9672</td>\n",
       "    </tr>\n",
       "    <tr>\n",
       "      <th>5</th>\n",
       "      <td>7</td>\n",
       "      <td>0.9594</td>\n",
       "    </tr>\n",
       "    <tr>\n",
       "      <th>6</th>\n",
       "      <td>8</td>\n",
       "      <td>0.9616</td>\n",
       "    </tr>\n",
       "    <tr>\n",
       "      <th>7</th>\n",
       "      <td>9</td>\n",
       "      <td>0.9611</td>\n",
       "    </tr>\n",
       "  </tbody>\n",
       "</table>\n",
       "</div>"
      ],
      "text/plain": [
       "   splits / knn  mean_accuracy\n",
       "0             2         0.9527\n",
       "1             3         0.9671\n",
       "2             4         0.9650\n",
       "3             5         0.9644\n",
       "4             6         0.9672\n",
       "5             7         0.9594\n",
       "6             8         0.9616\n",
       "7             9         0.9611"
      ]
     },
     "execution_count": 865,
     "metadata": {},
     "output_type": "execute_result"
    }
   ],
   "source": [
    "print(mean_accuracies_cv)\n",
    "dict_3 = \\\n",
    "{'splits / knn': splits_n, 'mean_accuracy': mean_accuracies_cv}\n",
    "\n",
    "df_3 = pd.DataFrame(dict_3)\n",
    "df_3"
   ]
  },
  {
   "cell_type": "code",
   "execution_count": 866,
   "metadata": {},
   "outputs": [
    {
     "data": {
      "text/html": [
       "<div>\n",
       "<style scoped>\n",
       "    .dataframe tbody tr th:only-of-type {\n",
       "        vertical-align: middle;\n",
       "    }\n",
       "\n",
       "    .dataframe tbody tr th {\n",
       "        vertical-align: top;\n",
       "    }\n",
       "\n",
       "    .dataframe thead th {\n",
       "        text-align: right;\n",
       "    }\n",
       "</style>\n",
       "<table border=\"1\" class=\"dataframe\">\n",
       "  <thead>\n",
       "    <tr style=\"text-align: right;\">\n",
       "      <th></th>\n",
       "      <th>model</th>\n",
       "      <th>accuracy</th>\n",
       "    </tr>\n",
       "  </thead>\n",
       "  <tbody>\n",
       "    <tr>\n",
       "      <th>0</th>\n",
       "      <td>knn_9</td>\n",
       "      <td>0.99259</td>\n",
       "    </tr>\n",
       "    <tr>\n",
       "      <th>1</th>\n",
       "      <td>knn_5</td>\n",
       "      <td>0.99260</td>\n",
       "    </tr>\n",
       "    <tr>\n",
       "      <th>2</th>\n",
       "      <td>kfold_cv_1</td>\n",
       "      <td>0.96710</td>\n",
       "    </tr>\n",
       "    <tr>\n",
       "      <th>3</th>\n",
       "      <td>kfold_cv_splits_3</td>\n",
       "      <td>0.96710</td>\n",
       "    </tr>\n",
       "  </tbody>\n",
       "</table>\n",
       "</div>"
      ],
      "text/plain": [
       "               model  accuracy\n",
       "0              knn_9   0.99259\n",
       "1              knn_5   0.99260\n",
       "2         kfold_cv_1   0.96710\n",
       "3  kfold_cv_splits_3   0.96710"
      ]
     },
     "execution_count": 866,
     "metadata": {},
     "output_type": "execute_result"
    }
   ],
   "source": [
    "newrow_22 = {'model': 'kfold_cv_splits_3' , 'accuracy': 0.9671}\n",
    "\n",
    "df_2 = df_2.append(newrow_22, ignore_index=True)\n",
    "df_2"
   ]
  },
  {
   "cell_type": "code",
   "execution_count": 867,
   "metadata": {},
   "outputs": [
    {
     "data": {
      "image/png": "[encoded data removed]",
      "text/plain": [
       "<Figure size 432x288 with 1 Axes>"
      ]
     },
     "metadata": {
      "needs_background": "light"
     },
     "output_type": "display_data"
    }
   ],
   "source": [
    "fig, ax1 = plt.subplots(1)\n",
    "ax1.plot(splits_n, mean_accuracies_cv)\n",
    "ax1.set_title(\"Mean accuracies depending \\n on number of splits and knn\")\n",
    "ax1.set_ylabel(\"Accuracy\")\n",
    "ax1.set_xlabel(\"split / knn\")\n",
    "plt.show()"
   ]
  },
  {
   "cell_type": "code",
   "execution_count": 868,
   "metadata": {},
   "outputs": [
    {
     "data": {
      "text/plain": [
       "[2, 3, 4, 5, 6, 7, 8, 9, 10]"
      ]
     },
     "execution_count": 868,
     "metadata": {},
     "output_type": "execute_result"
    }
   ],
   "source": [
    "list(np.arange(2,11, 1))"
   ]
  },
  {
   "cell_type": "code",
   "execution_count": 869,
   "metadata": {},
   "outputs": [
    {
     "name": "stdout",
     "output_type": "stream",
     "text": [
      "2 [ 2  3  4  5  6  7  8  9 10]\n"
     ]
    }
   ],
   "source": [
    "\n",
    "splits = [2,3,4,5]\n",
    "n_list = [np.arange(2,11, 1)]\n",
    "\n",
    "mean_accuracies_cv_2 = []\n",
    "\n",
    "for s, n in zip(splits, n_list):\n",
    "    print(s,n)\n",
    "    "
   ]
  },
  {
   "cell_type": "code",
   "execution_count": 870,
   "metadata": {},
   "outputs": [],
   "source": [
    "mean_accuracies_cv_2 = []\n",
    "\n",
    "for n in splits_n :\n",
    "    acc_list = kfold_cross_validation(X_features=data_df,\n",
    "                           y_labels=target_df, \n",
    "                           n=n,\n",
    "                           split=9)\n",
    "    average = round(np.mean(acc_list),4)\n",
    "    mean_accuracies_cv_2.append(average)"
   ]
  },
  {
   "cell_type": "code",
   "execution_count": 871,
   "metadata": {},
   "outputs": [
    {
     "data": {
      "text/plain": [
       "[0.9705, 0.9744, 0.9705, 0.9705, 0.9677, 0.965, 0.9638, 0.9611]"
      ]
     },
     "execution_count": 871,
     "metadata": {},
     "output_type": "execute_result"
    }
   ],
   "source": [
    "mean_accuracies_cv_2 "
   ]
  },
  {
   "cell_type": "code",
   "execution_count": 872,
   "metadata": {},
   "outputs": [
    {
     "data": {
      "text/html": [
       "<div>\n",
       "<style scoped>\n",
       "    .dataframe tbody tr th:only-of-type {\n",
       "        vertical-align: middle;\n",
       "    }\n",
       "\n",
       "    .dataframe tbody tr th {\n",
       "        vertical-align: top;\n",
       "    }\n",
       "\n",
       "    .dataframe thead th {\n",
       "        text-align: right;\n",
       "    }\n",
       "</style>\n",
       "<table border=\"1\" class=\"dataframe\">\n",
       "  <thead>\n",
       "    <tr style=\"text-align: right;\">\n",
       "      <th></th>\n",
       "      <th>splits / knn</th>\n",
       "      <th>mean_accuracy</th>\n",
       "    </tr>\n",
       "  </thead>\n",
       "  <tbody>\n",
       "    <tr>\n",
       "      <th>0</th>\n",
       "      <td>2</td>\n",
       "      <td>0.9527</td>\n",
       "    </tr>\n",
       "    <tr>\n",
       "      <th>1</th>\n",
       "      <td>3</td>\n",
       "      <td>0.9671</td>\n",
       "    </tr>\n",
       "    <tr>\n",
       "      <th>2</th>\n",
       "      <td>4</td>\n",
       "      <td>0.9650</td>\n",
       "    </tr>\n",
       "    <tr>\n",
       "      <th>3</th>\n",
       "      <td>5</td>\n",
       "      <td>0.9644</td>\n",
       "    </tr>\n",
       "    <tr>\n",
       "      <th>4</th>\n",
       "      <td>6</td>\n",
       "      <td>0.9672</td>\n",
       "    </tr>\n",
       "    <tr>\n",
       "      <th>5</th>\n",
       "      <td>7</td>\n",
       "      <td>0.9594</td>\n",
       "    </tr>\n",
       "    <tr>\n",
       "      <th>6</th>\n",
       "      <td>8</td>\n",
       "      <td>0.9616</td>\n",
       "    </tr>\n",
       "    <tr>\n",
       "      <th>7</th>\n",
       "      <td>9</td>\n",
       "      <td>0.9611</td>\n",
       "    </tr>\n",
       "  </tbody>\n",
       "</table>\n",
       "</div>"
      ],
      "text/plain": [
       "   splits / knn  mean_accuracy\n",
       "0             2         0.9527\n",
       "1             3         0.9671\n",
       "2             4         0.9650\n",
       "3             5         0.9644\n",
       "4             6         0.9672\n",
       "5             7         0.9594\n",
       "6             8         0.9616\n",
       "7             9         0.9611"
      ]
     },
     "execution_count": 872,
     "metadata": {},
     "output_type": "execute_result"
    }
   ],
   "source": [
    "dict_4 = \\\n",
    "{'splits / knn': splits_n, 'mean_accuracy': mean_accuracies_cv}\n",
    "\n",
    "df_4 = pd.DataFrame(dict_4)\n",
    "df_4"
   ]
  },
  {
   "cell_type": "code",
   "execution_count": 873,
   "metadata": {},
   "outputs": [
    {
     "data": {
      "image/png": "[encoded data removed]",
      "text/plain": [
       "<Figure size 432x288 with 1 Axes>"
      ]
     },
     "metadata": {
      "needs_background": "light"
     },
     "output_type": "display_data"
    }
   ],
   "source": [
    "fig, ax1 = plt.subplots(1)\n",
    "ax1.plot(splits_n, mean_accuracies_cv_2 )\n",
    "ax1.set_title(\"Mean accuracies depending \\n on number of splits and knn\")\n",
    "ax1.set_ylabel(\"Accuracy\")\n",
    "ax1.set_xlabel(\"split / knn\")\n",
    "plt.show()"
   ]
  },
  {
   "cell_type": "code",
   "execution_count": 874,
   "metadata": {},
   "outputs": [
    {
     "data": {
      "text/html": [
       "<div>\n",
       "<style scoped>\n",
       "    .dataframe tbody tr th:only-of-type {\n",
       "        vertical-align: middle;\n",
       "    }\n",
       "\n",
       "    .dataframe tbody tr th {\n",
       "        vertical-align: top;\n",
       "    }\n",
       "\n",
       "    .dataframe thead th {\n",
       "        text-align: right;\n",
       "    }\n",
       "</style>\n",
       "<table border=\"1\" class=\"dataframe\">\n",
       "  <thead>\n",
       "    <tr style=\"text-align: right;\">\n",
       "      <th></th>\n",
       "      <th>model</th>\n",
       "      <th>accuracy</th>\n",
       "    </tr>\n",
       "  </thead>\n",
       "  <tbody>\n",
       "    <tr>\n",
       "      <th>0</th>\n",
       "      <td>knn_9</td>\n",
       "      <td>0.99259</td>\n",
       "    </tr>\n",
       "    <tr>\n",
       "      <th>1</th>\n",
       "      <td>knn_5</td>\n",
       "      <td>0.99260</td>\n",
       "    </tr>\n",
       "    <tr>\n",
       "      <th>2</th>\n",
       "      <td>kfold_cv_1</td>\n",
       "      <td>0.96710</td>\n",
       "    </tr>\n",
       "    <tr>\n",
       "      <th>3</th>\n",
       "      <td>kfold_cv_splits_3</td>\n",
       "      <td>0.96710</td>\n",
       "    </tr>\n",
       "    <tr>\n",
       "      <th>4</th>\n",
       "      <td>kfold_cv_splits_9</td>\n",
       "      <td>0.96110</td>\n",
       "    </tr>\n",
       "  </tbody>\n",
       "</table>\n",
       "</div>"
      ],
      "text/plain": [
       "               model  accuracy\n",
       "0              knn_9   0.99259\n",
       "1              knn_5   0.99260\n",
       "2         kfold_cv_1   0.96710\n",
       "3  kfold_cv_splits_3   0.96710\n",
       "4  kfold_cv_splits_9   0.96110"
      ]
     },
     "execution_count": 874,
     "metadata": {},
     "output_type": "execute_result"
    }
   ],
   "source": [
    "newrow_22 = {'model': 'kfold_cv_splits_9' , 'accuracy': 0.9611}\n",
    "\n",
    "df_2 = df_2.append(newrow_22, ignore_index=True)\n",
    "df_2"
   ]
  },
  {
   "cell_type": "markdown",
   "metadata": {},
   "source": [
    "## Data modeling with the neural network MLPClassifier"
   ]
  },
  {
   "cell_type": "markdown",
   "metadata": {},
   "source": [
    "Creating a function which returns accuracies for the \n",
    "train test data sets of every fold in the cross validation\n",
    "splits and then calculating the averages."
   ]
  },
  {
   "cell_type": "code",
   "execution_count": 875,
   "metadata": {},
   "outputs": [],
   "source": [
    "def cv_mlpclf(X_features, y_label, splits, nodes, hidden,\n",
    "              activation='relu'):\n",
    "# The relu function is set as default because in general\n",
    "# it produces the best results.\n",
    "\n",
    "    train_fold_acc = []\n",
    "    test_fold_acc = []\n",
    "\n",
    "    kf = KFold(n_splits=splits)\n",
    "    for train_index, test_index in kf.split(X_features):\n",
    "        X_train, X_test = \\\n",
    "        X_features.loc[train_index], X_features.loc[test_index]\n",
    "        y_train, y_test = \\\n",
    "        y_label.loc[train_index], y_label.loc[test_index]\n",
    "        \n",
    "        # making sure a one dimensional numpy array is provided\n",
    "        if isinstance(y_train, pd.DataFrame) \\\n",
    "        or isinstance(y_train, list):\n",
    "            y_train = np.array(y_train).ravel()\n",
    "        \n",
    "        mlp = \\\n",
    "        MLPClassifier(hidden_layer_sizes=(nodes, hidden), \n",
    "                      max_iter=10000)\n",
    "        mlp.fit(X_train, y_train )\n",
    "        \n",
    "        \n",
    "        mlp_predictions = mlp.predict(X_test)\n",
    "        accuracy_test = \\\n",
    "        round(accuracy_score(y_test, mlp_predictions), 4)\n",
    "        test_fold_acc.append(accuracy_test)\n",
    "        mean_test_acc = \\\n",
    "        round(np.mean(test_fold_acc), 4)\n",
    "    \n",
    "        \n",
    "        mlp_predictions = mlp.predict(X_train)\n",
    "        accuracy_train = \\\n",
    "        round(accuracy_score(y_train, mlp_predictions), 4)       \n",
    "        train_fold_acc.append(accuracy_train)\n",
    "        mean_train_acc = \\\n",
    "        round(np.mean(train_fold_acc), 4)\n",
    "    \n",
    "    return (train_fold_acc, mean_train_acc,\n",
    "            test_fold_acc, mean_test_acc)  "
   ]
  },
  {
   "cell_type": "markdown",
   "metadata": {},
   "source": [
    "#### Neural network 1 of MLPClassifier: 100 nodes, 3 hidden layer."
   ]
  },
  {
   "cell_type": "code",
   "execution_count": 876,
   "metadata": {},
   "outputs": [
    {
     "name": "stdout",
     "output_type": "stream",
     "text": [
      "Fold train accuracies: [0.404, 0.899, 1.0]\n",
      "Overall train average accuracy: 0.7677\n",
      "Fold test accuracies: [0.3673, 0.8047, 0.8715]\n",
      "Overall test average accuracy: 0.6812\n"
     ]
    }
   ],
   "source": [
    "train_fold_acc_1, mean_train_acc_1, \\\n",
    "test_fold_acc_1, mean_test_acc_1 = \\\n",
    "cv_mlpclf(X_features=data_df, y_label=target_df, \n",
    "          splits=3, nodes=100, hidden=3)\n",
    "\n",
    "print(\"Fold train accuracies: {}\".format(train_fold_acc_1))\n",
    "print(\"Overall train average accuracy: {}\".format(mean_train_acc_1))\n",
    "\n",
    "print(\"Fold test accuracies: {}\".format(test_fold_acc_1))\n",
    "print(\"Overall test average accuracy: {}\".format(mean_test_acc_1))\n"
   ]
  },
  {
   "cell_type": "markdown",
   "metadata": {},
   "source": [
    "The overall test average is rather low."
   ]
  },
  {
   "cell_type": "code",
   "execution_count": 877,
   "metadata": {},
   "outputs": [
    {
     "data": {
      "text/html": [
       "<div>\n",
       "<style scoped>\n",
       "    .dataframe tbody tr th:only-of-type {\n",
       "        vertical-align: middle;\n",
       "    }\n",
       "\n",
       "    .dataframe tbody tr th {\n",
       "        vertical-align: top;\n",
       "    }\n",
       "\n",
       "    .dataframe thead th {\n",
       "        text-align: right;\n",
       "    }\n",
       "</style>\n",
       "<table border=\"1\" class=\"dataframe\">\n",
       "  <thead>\n",
       "    <tr style=\"text-align: right;\">\n",
       "      <th></th>\n",
       "      <th>model</th>\n",
       "      <th>accuracy</th>\n",
       "    </tr>\n",
       "  </thead>\n",
       "  <tbody>\n",
       "    <tr>\n",
       "      <th>0</th>\n",
       "      <td>knn_9</td>\n",
       "      <td>0.99259</td>\n",
       "    </tr>\n",
       "    <tr>\n",
       "      <th>1</th>\n",
       "      <td>knn_5</td>\n",
       "      <td>0.99260</td>\n",
       "    </tr>\n",
       "    <tr>\n",
       "      <th>2</th>\n",
       "      <td>kfold_cv_1</td>\n",
       "      <td>0.96710</td>\n",
       "    </tr>\n",
       "    <tr>\n",
       "      <th>3</th>\n",
       "      <td>kfold_cv_splits_3</td>\n",
       "      <td>0.96710</td>\n",
       "    </tr>\n",
       "    <tr>\n",
       "      <th>4</th>\n",
       "      <td>kfold_cv_splits_9</td>\n",
       "      <td>0.96110</td>\n",
       "    </tr>\n",
       "    <tr>\n",
       "      <th>5</th>\n",
       "      <td>MLP_100_3_hidden</td>\n",
       "      <td>0.62160</td>\n",
       "    </tr>\n",
       "  </tbody>\n",
       "</table>\n",
       "</div>"
      ],
      "text/plain": [
       "               model  accuracy\n",
       "0              knn_9   0.99259\n",
       "1              knn_5   0.99260\n",
       "2         kfold_cv_1   0.96710\n",
       "3  kfold_cv_splits_3   0.96710\n",
       "4  kfold_cv_splits_9   0.96110\n",
       "5   MLP_100_3_hidden   0.62160"
      ]
     },
     "execution_count": 877,
     "metadata": {},
     "output_type": "execute_result"
    }
   ],
   "source": [
    "newrow_33 = {'model': 'MLP_100_3_hidden' , 'accuracy': 0.6216}\n",
    "\n",
    "df_2 = df_2.append(newrow_33, ignore_index=True)\n",
    "df_2"
   ]
  },
  {
   "cell_type": "markdown",
   "metadata": {},
   "source": [
    "<b>Overfitting?</b>\n"
   ]
  },
  {
   "cell_type": "code",
   "execution_count": 878,
   "metadata": {},
   "outputs": [
    {
     "data": {
      "image/png": "[encoded data removed]",
      "text/plain": [
       "<Figure size 432x288 with 1 Axes>"
      ]
     },
     "metadata": {
      "needs_background": "light"
     },
     "output_type": "display_data"
    }
   ],
   "source": [
    "fig, ax1 = plt.subplots(1)\n",
    "ax1.plot([1,2,3], train_fold_acc_1, label=\"Fold train averages\")\n",
    "ax1.plot([1,2,3], test_fold_acc_1, label=\"Fold test averages\")\n",
    "ax1.legend(loc=\"lower left\")\n",
    "ax1.set_title(\"Overfitting of fold train averages?\")\n",
    "ax1.set_xlabel(\"Number of splits\")\n",
    "ax1.set_ylabel(\"Accuracy\")\n",
    "plt.show()"
   ]
  },
  {
   "cell_type": "markdown",
   "metadata": {},
   "source": [
    "There is overfitting in the training model while accuracy is\n",
    "rather low."
   ]
  },
  {
   "cell_type": "markdown",
   "metadata": {},
   "source": [
    "#### Neural network 2 of MLPClassifier: nodes between 8 and 256, 3 hidden layers.\n",
    "\n",
    "<p>Creating models with different \n",
    "number of nodes in the hidden layer sizes parameter.</p> "
   ]
  },
  {
   "cell_type": "code",
   "execution_count": 879,
   "metadata": {},
   "outputs": [
    {
     "name": "stdout",
     "output_type": "stream",
     "text": [
      "[8, 57, 107, 156, 206, 256]\n"
     ]
    }
   ],
   "source": [
    "# list of input values for hidden layer size nodes\n",
    "nodes_list = list(np.linspace(8,256,6, dtype='int'))\n",
    "print(layers_list)"
   ]
  },
  {
   "cell_type": "code",
   "execution_count": 880,
   "metadata": {},
   "outputs": [],
   "source": [
    "acc_fold_train = []\n",
    "acc_mean_train = []\n",
    "\n",
    "acc_fold_test = []\n",
    "acc_mean_test = []\n",
    "\n",
    "for nodes in nodes_list:\n",
    "    # 4 output values, test & train for every fold and mean\n",
    "    train_fold, train_mean, test_fold, test_mean = \\\n",
    "    cv_mlpclf(X_features=data_df, y_label=target_df, \n",
    "              splits=3, nodes=nodes, hidden=3)\n",
    "    \n",
    "    acc_fold_train.append(train_fold)\n",
    "    acc_mean_train.append(train_mean)\n",
    "    \n",
    "    acc_fold_test.append(test_fold)\n",
    "    acc_mean_test.append(test_mean)"
   ]
  },
  {
   "cell_type": "code",
   "execution_count": 881,
   "metadata": {},
   "outputs": [
    {
     "name": "stdout",
     "output_type": "stream",
     "text": [
      "Fold train accuracies:  [[0.9992, 0.9725, 1.0], [0.8088, 0.101, 0.9942], [0.9224, 1.0, 0.4416], [0.8932, 0.4048, 0.3957], [0.3264, 0.4883, 0.9983], [0.4015, 0.4499, 0.4399]]\n",
      "Overall train averages for number of nodes:  [0.9906, 0.6347, 0.788, 0.5646, 0.6043, 0.4304]\n"
     ]
    }
   ],
   "source": [
    "print(\"Fold train accuracies: \" , acc_fold_train)\n",
    "print(\"Overall train averages for number of nodes: \", \n",
    "      acc_mean_train)"
   ]
  },
  {
   "cell_type": "code",
   "execution_count": 882,
   "metadata": {},
   "outputs": [
    {
     "name": "stdout",
     "output_type": "stream",
     "text": [
      "Fold test accuracies:  [[0.8681, 0.793, 0.8264], [0.6344, 0.0952, 0.8881], [0.7012, 0.8982, 0.3539], [0.7062, 0.3639, 0.3189], [0.3456, 0.3606, 0.8664], [0.3573, 0.3907, 0.3856]]\n",
      "Overall test averages for number of nodes:  [0.8292, 0.5392, 0.6511, 0.463, 0.5242, 0.3779]\n"
     ]
    }
   ],
   "source": [
    "print(\"Fold test accuracies: \" , acc_fold_test)\n",
    "print(\"Overall test averages for number of nodes: \", \n",
    "      acc_mean_test)"
   ]
  },
  {
   "cell_type": "code",
   "execution_count": 883,
   "metadata": {},
   "outputs": [
    {
     "data": {
      "text/html": [
       "<div>\n",
       "<style scoped>\n",
       "    .dataframe tbody tr th:only-of-type {\n",
       "        vertical-align: middle;\n",
       "    }\n",
       "\n",
       "    .dataframe tbody tr th {\n",
       "        vertical-align: top;\n",
       "    }\n",
       "\n",
       "    .dataframe thead th {\n",
       "        text-align: right;\n",
       "    }\n",
       "</style>\n",
       "<table border=\"1\" class=\"dataframe\">\n",
       "  <thead>\n",
       "    <tr style=\"text-align: right;\">\n",
       "      <th></th>\n",
       "      <th>model</th>\n",
       "      <th>accuracy</th>\n",
       "    </tr>\n",
       "  </thead>\n",
       "  <tbody>\n",
       "    <tr>\n",
       "      <th>0</th>\n",
       "      <td>knn_9</td>\n",
       "      <td>0.99259</td>\n",
       "    </tr>\n",
       "    <tr>\n",
       "      <th>1</th>\n",
       "      <td>knn_5</td>\n",
       "      <td>0.99260</td>\n",
       "    </tr>\n",
       "    <tr>\n",
       "      <th>2</th>\n",
       "      <td>kfold_cv_1</td>\n",
       "      <td>0.96710</td>\n",
       "    </tr>\n",
       "    <tr>\n",
       "      <th>3</th>\n",
       "      <td>kfold_cv_splits_3</td>\n",
       "      <td>0.96710</td>\n",
       "    </tr>\n",
       "    <tr>\n",
       "      <th>4</th>\n",
       "      <td>kfold_cv_splits_9</td>\n",
       "      <td>0.96110</td>\n",
       "    </tr>\n",
       "    <tr>\n",
       "      <th>5</th>\n",
       "      <td>MLP_100_3_hidden</td>\n",
       "      <td>0.62160</td>\n",
       "    </tr>\n",
       "    <tr>\n",
       "      <th>6</th>\n",
       "      <td>MLP_100_8_nodes</td>\n",
       "      <td>0.81970</td>\n",
       "    </tr>\n",
       "  </tbody>\n",
       "</table>\n",
       "</div>"
      ],
      "text/plain": [
       "               model  accuracy\n",
       "0              knn_9   0.99259\n",
       "1              knn_5   0.99260\n",
       "2         kfold_cv_1   0.96710\n",
       "3  kfold_cv_splits_3   0.96710\n",
       "4  kfold_cv_splits_9   0.96110\n",
       "5   MLP_100_3_hidden   0.62160\n",
       "6    MLP_100_8_nodes   0.81970"
      ]
     },
     "execution_count": 883,
     "metadata": {},
     "output_type": "execute_result"
    }
   ],
   "source": [
    "newrow_44 = {'model': 'MLP_100_8_nodes' , 'accuracy': 0.8197}\n",
    "\n",
    "df_2 = df_2.append(newrow_44, ignore_index=True)\n",
    "df_2"
   ]
  },
  {
   "cell_type": "markdown",
   "metadata": {},
   "source": [
    "<b>Overfitting?</b>\n"
   ]
  },
  {
   "cell_type": "code",
   "execution_count": 884,
   "metadata": {},
   "outputs": [
    {
     "data": {
      "text/html": [
       "<div>\n",
       "<style scoped>\n",
       "    .dataframe tbody tr th:only-of-type {\n",
       "        vertical-align: middle;\n",
       "    }\n",
       "\n",
       "    .dataframe tbody tr th {\n",
       "        vertical-align: top;\n",
       "    }\n",
       "\n",
       "    .dataframe thead th {\n",
       "        text-align: right;\n",
       "    }\n",
       "</style>\n",
       "<table border=\"1\" class=\"dataframe\">\n",
       "  <thead>\n",
       "    <tr style=\"text-align: right;\">\n",
       "      <th></th>\n",
       "      <th>n nodes</th>\n",
       "      <th>overall test accuracy</th>\n",
       "      <th>overall train accuracy</th>\n",
       "      <th>difference</th>\n",
       "    </tr>\n",
       "  </thead>\n",
       "  <tbody>\n",
       "    <tr>\n",
       "      <th>0</th>\n",
       "      <td>8</td>\n",
       "      <td>0.8292</td>\n",
       "      <td>0.9906</td>\n",
       "      <td>-0.1614</td>\n",
       "    </tr>\n",
       "    <tr>\n",
       "      <th>1</th>\n",
       "      <td>57</td>\n",
       "      <td>0.5392</td>\n",
       "      <td>0.6347</td>\n",
       "      <td>-0.0955</td>\n",
       "    </tr>\n",
       "    <tr>\n",
       "      <th>2</th>\n",
       "      <td>107</td>\n",
       "      <td>0.6511</td>\n",
       "      <td>0.7880</td>\n",
       "      <td>-0.1369</td>\n",
       "    </tr>\n",
       "    <tr>\n",
       "      <th>3</th>\n",
       "      <td>156</td>\n",
       "      <td>0.4630</td>\n",
       "      <td>0.5646</td>\n",
       "      <td>-0.1016</td>\n",
       "    </tr>\n",
       "    <tr>\n",
       "      <th>4</th>\n",
       "      <td>206</td>\n",
       "      <td>0.5242</td>\n",
       "      <td>0.6043</td>\n",
       "      <td>-0.0801</td>\n",
       "    </tr>\n",
       "    <tr>\n",
       "      <th>5</th>\n",
       "      <td>256</td>\n",
       "      <td>0.3779</td>\n",
       "      <td>0.4304</td>\n",
       "      <td>-0.0525</td>\n",
       "    </tr>\n",
       "  </tbody>\n",
       "</table>\n",
       "</div>"
      ],
      "text/plain": [
       "   n nodes  overall test accuracy  overall train accuracy  difference\n",
       "0        8                 0.8292                  0.9906     -0.1614\n",
       "1       57                 0.5392                  0.6347     -0.0955\n",
       "2      107                 0.6511                  0.7880     -0.1369\n",
       "3      156                 0.4630                  0.5646     -0.1016\n",
       "4      206                 0.5242                  0.6043     -0.0801\n",
       "5      256                 0.3779                  0.4304     -0.0525"
      ]
     },
     "execution_count": 884,
     "metadata": {},
     "output_type": "execute_result"
    }
   ],
   "source": [
    "dict_5 = \\\n",
    "{'n nodes': layers_list, \n",
    " 'overall test accuracy': acc_mean_test,\n",
    " 'overall train accuracy': acc_mean_train}\n",
    "\n",
    "df_5 = pd.DataFrame(dict_5)\n",
    "df_5['difference'] = \\\n",
    "df_5['overall test accuracy'] - df_5['overall train accuracy']\n",
    "\n",
    "df_5"
   ]
  },
  {
   "cell_type": "markdown",
   "metadata": {},
   "source": [
    "There is overfitting in the training model."
   ]
  },
  {
   "cell_type": "code",
   "execution_count": 885,
   "metadata": {},
   "outputs": [
    {
     "data": {
      "image/png": "[encoded data removed]",
      "text/plain": [
       "<Figure size 432x288 with 1 Axes>"
      ]
     },
     "metadata": {
      "needs_background": "light"
     },
     "output_type": "display_data"
    }
   ],
   "source": [
    "fig, ax1 = plt.subplots(1)\n",
    "ax1.plot(layers_list, acc_mean_train, label=\"Overall train averages\")\n",
    "ax1.plot(layers_list, acc_mean_test, label=\"Overall test averages\")\n",
    "ax1.legend(loc=\"lower left\")\n",
    "ax1.set_title(\"Overfitting of train averages?\")\n",
    "ax1.set_xlabel(\"Number of nodes\")\n",
    "ax1.set_ylabel(\"Accuracy\")\n",
    "plt.show()"
   ]
  },
  {
   "cell_type": "markdown",
   "metadata": {},
   "source": [
    "It seems the number of nodes of 156 produces the best\n",
    "test accuracy. Is varying the number of hidden layer while \n",
    "holding the number of nodes constant on 156 nodes going to \n",
    "generate a higher accuracy?"
   ]
  },
  {
   "cell_type": "markdown",
   "metadata": {},
   "source": [
    "#### Neural network 3 of MLPClassifier: nodes 57, hidden layers between 1 and 100."
   ]
  },
  {
   "cell_type": "code",
   "execution_count": 886,
   "metadata": {},
   "outputs": [],
   "source": [
    "acc_fold_train_2 = []\n",
    "acc_mean_train_2 = []\n",
    "\n",
    "acc_fold_test_2 = []\n",
    "acc_mean_test_2 = []\n",
    "\n",
    "hidden_layers_list = [1,3,10,30,50,70,100]\n",
    "\n",
    "for hl in hidden_layers_list:\n",
    "\n",
    "    train_fold, train_mean, test_fold, test_mean = \\\n",
    "    cv_mlpclf(X_features=data_df, y_label=target_df, \n",
    "              splits=3, nodes=57, hidden=hl)\n",
    "    \n",
    "    acc_fold_train_2.append(train_fold)\n",
    "    acc_mean_train_2.append(train_mean)\n",
    "    \n",
    "    acc_fold_test_2.append(test_fold)\n",
    "    acc_mean_test_2.append(test_mean)"
   ]
  },
  {
   "cell_type": "code",
   "execution_count": 887,
   "metadata": {},
   "outputs": [
    {
     "name": "stdout",
     "output_type": "stream",
     "text": [
      "[[0.5033, 0.1027, 0.5551], [0.9967, 0.9967, 0.7913], [1.0, 1.0, 1.0], [1.0, 1.0, 1.0], [1.0, 1.0, 1.0], [1.0, 1.0, 1.0], [1.0, 1.0, 1.0]]\n"
     ]
    }
   ],
   "source": [
    "print(acc_fold_train_2)\n"
   ]
  },
  {
   "cell_type": "code",
   "execution_count": 888,
   "metadata": {},
   "outputs": [
    {
     "name": "stdout",
     "output_type": "stream",
     "text": [
      "[0.387, 0.9282, 1.0, 1.0, 1.0, 1.0, 1.0]\n"
     ]
    }
   ],
   "source": [
    "print(acc_mean_train_2)\n"
   ]
  },
  {
   "cell_type": "code",
   "execution_count": 889,
   "metadata": {},
   "outputs": [
    {
     "name": "stdout",
     "output_type": "stream",
     "text": [
      "[[0.4207, 0.1002, 0.394], [0.8681, 0.8631, 0.6477], [0.8848, 0.9232, 0.9149], [0.9349, 0.9549, 0.9199], [0.9299, 0.9583, 0.9399], [0.9249, 0.9366, 0.9215], [0.9282, 0.9399, 0.9366]]\n"
     ]
    }
   ],
   "source": [
    "print(acc_fold_test_2)\n"
   ]
  },
  {
   "cell_type": "code",
   "execution_count": 890,
   "metadata": {},
   "outputs": [
    {
     "name": "stdout",
     "output_type": "stream",
     "text": [
      "[0.305, 0.793, 0.9076, 0.9366, 0.9427, 0.9277, 0.9349]\n"
     ]
    }
   ],
   "source": [
    "print(acc_mean_test_2)"
   ]
  },
  {
   "cell_type": "code",
   "execution_count": 891,
   "metadata": {},
   "outputs": [
    {
     "data": {
      "text/html": [
       "<div>\n",
       "<style scoped>\n",
       "    .dataframe tbody tr th:only-of-type {\n",
       "        vertical-align: middle;\n",
       "    }\n",
       "\n",
       "    .dataframe tbody tr th {\n",
       "        vertical-align: top;\n",
       "    }\n",
       "\n",
       "    .dataframe thead th {\n",
       "        text-align: right;\n",
       "    }\n",
       "</style>\n",
       "<table border=\"1\" class=\"dataframe\">\n",
       "  <thead>\n",
       "    <tr style=\"text-align: right;\">\n",
       "      <th></th>\n",
       "      <th>n hidden layers</th>\n",
       "      <th>mean train accuracies</th>\n",
       "      <th>mean test accuracies</th>\n",
       "      <th>difference</th>\n",
       "    </tr>\n",
       "  </thead>\n",
       "  <tbody>\n",
       "    <tr>\n",
       "      <th>0</th>\n",
       "      <td>1</td>\n",
       "      <td>0.3870</td>\n",
       "      <td>0.3050</td>\n",
       "      <td>0.0820</td>\n",
       "    </tr>\n",
       "    <tr>\n",
       "      <th>1</th>\n",
       "      <td>3</td>\n",
       "      <td>0.9282</td>\n",
       "      <td>0.7930</td>\n",
       "      <td>0.1352</td>\n",
       "    </tr>\n",
       "    <tr>\n",
       "      <th>2</th>\n",
       "      <td>10</td>\n",
       "      <td>1.0000</td>\n",
       "      <td>0.9076</td>\n",
       "      <td>0.0924</td>\n",
       "    </tr>\n",
       "    <tr>\n",
       "      <th>3</th>\n",
       "      <td>30</td>\n",
       "      <td>1.0000</td>\n",
       "      <td>0.9366</td>\n",
       "      <td>0.0634</td>\n",
       "    </tr>\n",
       "    <tr>\n",
       "      <th>4</th>\n",
       "      <td>50</td>\n",
       "      <td>1.0000</td>\n",
       "      <td>0.9427</td>\n",
       "      <td>0.0573</td>\n",
       "    </tr>\n",
       "    <tr>\n",
       "      <th>5</th>\n",
       "      <td>70</td>\n",
       "      <td>1.0000</td>\n",
       "      <td>0.9277</td>\n",
       "      <td>0.0723</td>\n",
       "    </tr>\n",
       "    <tr>\n",
       "      <th>6</th>\n",
       "      <td>100</td>\n",
       "      <td>1.0000</td>\n",
       "      <td>0.9349</td>\n",
       "      <td>0.0651</td>\n",
       "    </tr>\n",
       "  </tbody>\n",
       "</table>\n",
       "</div>"
      ],
      "text/plain": [
       "   n hidden layers  mean train accuracies  mean test accuracies  difference\n",
       "0                1                 0.3870                0.3050      0.0820\n",
       "1                3                 0.9282                0.7930      0.1352\n",
       "2               10                 1.0000                0.9076      0.0924\n",
       "3               30                 1.0000                0.9366      0.0634\n",
       "4               50                 1.0000                0.9427      0.0573\n",
       "5               70                 1.0000                0.9277      0.0723\n",
       "6              100                 1.0000                0.9349      0.0651"
      ]
     },
     "execution_count": 891,
     "metadata": {},
     "output_type": "execute_result"
    }
   ],
   "source": [
    "dict_6 = \\\n",
    "{'n hidden layers': hidden_layers_list , \n",
    " 'mean train accuracies': acc_mean_train_2,\n",
    " 'mean test accuracies': acc_mean_test_2 }\n",
    "\n",
    "df_6 = pd.DataFrame(dict_6)\n",
    "df_6['difference'] = \\\n",
    "df_6['mean train accuracies'] - df_6['mean test accuracies']\n",
    "\n",
    "df_6"
   ]
  },
  {
   "cell_type": "code",
   "execution_count": 892,
   "metadata": {},
   "outputs": [
    {
     "data": {
      "image/png": "[encoded data removed]",
      "text/plain": [
       "<Figure size 432x288 with 1 Axes>"
      ]
     },
     "metadata": {
      "needs_background": "light"
     },
     "output_type": "display_data"
    }
   ],
   "source": [
    "fig, ax1 = plt.subplots(1)\n",
    "ax1.plot(hidden_layers_list, acc_mean_train_2, label=\"Overall train averages\")\n",
    "ax1.plot(hidden_layers_list, acc_mean_test_2, label=\"Overall test averages\")\n",
    "ax1.legend(loc=\"lower left\")\n",
    "ax1.set_title(\"Overfitting of train averages?\")\n",
    "ax1.set_xlabel(\"Number of hidden layers\")\n",
    "ax1.set_ylabel(\"Accuracy\")\n",
    "plt.show()"
   ]
  },
  {
   "cell_type": "code",
   "execution_count": 893,
   "metadata": {},
   "outputs": [
    {
     "data": {
      "text/html": [
       "<div>\n",
       "<style scoped>\n",
       "    .dataframe tbody tr th:only-of-type {\n",
       "        vertical-align: middle;\n",
       "    }\n",
       "\n",
       "    .dataframe tbody tr th {\n",
       "        vertical-align: top;\n",
       "    }\n",
       "\n",
       "    .dataframe thead th {\n",
       "        text-align: right;\n",
       "    }\n",
       "</style>\n",
       "<table border=\"1\" class=\"dataframe\">\n",
       "  <thead>\n",
       "    <tr style=\"text-align: right;\">\n",
       "      <th></th>\n",
       "      <th>model</th>\n",
       "      <th>accuracy</th>\n",
       "    </tr>\n",
       "  </thead>\n",
       "  <tbody>\n",
       "    <tr>\n",
       "      <th>0</th>\n",
       "      <td>knn_9</td>\n",
       "      <td>0.99259</td>\n",
       "    </tr>\n",
       "    <tr>\n",
       "      <th>1</th>\n",
       "      <td>knn_5</td>\n",
       "      <td>0.99260</td>\n",
       "    </tr>\n",
       "    <tr>\n",
       "      <th>2</th>\n",
       "      <td>kfold_cv_1</td>\n",
       "      <td>0.96710</td>\n",
       "    </tr>\n",
       "    <tr>\n",
       "      <th>3</th>\n",
       "      <td>kfold_cv_splits_3</td>\n",
       "      <td>0.96710</td>\n",
       "    </tr>\n",
       "    <tr>\n",
       "      <th>4</th>\n",
       "      <td>kfold_cv_splits_9</td>\n",
       "      <td>0.96110</td>\n",
       "    </tr>\n",
       "    <tr>\n",
       "      <th>5</th>\n",
       "      <td>MLP_100_3_hidden</td>\n",
       "      <td>0.62160</td>\n",
       "    </tr>\n",
       "    <tr>\n",
       "      <th>6</th>\n",
       "      <td>MLP_100_8_nodes</td>\n",
       "      <td>0.81970</td>\n",
       "    </tr>\n",
       "    <tr>\n",
       "      <th>7</th>\n",
       "      <td>MLP_100_hidden_70_nodes</td>\n",
       "      <td>0.93710</td>\n",
       "    </tr>\n",
       "  </tbody>\n",
       "</table>\n",
       "</div>"
      ],
      "text/plain": [
       "                     model  accuracy\n",
       "0                    knn_9   0.99259\n",
       "1                    knn_5   0.99260\n",
       "2               kfold_cv_1   0.96710\n",
       "3        kfold_cv_splits_3   0.96710\n",
       "4        kfold_cv_splits_9   0.96110\n",
       "5         MLP_100_3_hidden   0.62160\n",
       "6          MLP_100_8_nodes   0.81970\n",
       "7  MLP_100_hidden_70_nodes   0.93710"
      ]
     },
     "execution_count": 893,
     "metadata": {},
     "output_type": "execute_result"
    }
   ],
   "source": [
    "newrow_55 = {'model': 'MLP_100_hidden_70_nodes' , 'accuracy': 0.9371}\n",
    "\n",
    "df_2 = df_2.append(newrow_55, ignore_index=True)\n",
    "df_2"
   ]
  },
  {
   "cell_type": "markdown",
   "metadata": {},
   "source": [
    "Increasing the number of splits can reduce overfitting."
   ]
  },
  {
   "cell_type": "code",
   "execution_count": null,
   "metadata": {},
   "outputs": [],
   "source": [
    "acc_fold_train_3 = []\n",
    "acc_mean_train_3 = []\n",
    "\n",
    "acc_fold_test_3 = []\n",
    "acc_mean_test_3 = []\n",
    "\n",
    "nodes_list_3 = [10,64,128]\n",
    "hidden_layers_list_3 = [100, 150, 200]\n",
    "\n",
    "for hl, nodes in zip(hidden_layers_list_3, nodes_list_3) :\n",
    "    \n",
    "    train_fold, train_mean, test_fold, test_mean = \\\n",
    "    cv_mlpclf(X_features=data_df, y_label=target_df, \n",
    "              splits=6, nodes=nodes, hidden=hl)\n",
    "    \n",
    "    acc_fold_train_3.append(train_fold)\n",
    "    acc_mean_train_3.append(train_mean)\n",
    "    \n",
    "    acc_fold_test_3.append(test_fold)\n",
    "    acc_mean_test_3.append(test_mean)\n",
    "\n"
   ]
  },
  {
   "cell_type": "code",
   "execution_count": null,
   "metadata": {},
   "outputs": [
    {
     "name": "stdout",
     "output_type": "stream",
     "text": [
      "[[1.0, 1.0, 1.0, 1.0, 1.0, 1.0], [1.0, 1.0, 1.0, 1.0, 1.0, 1.0], [1.0, 1.0, 1.0, 1.0, 1.0, 1.0]]\n",
      "[[0.9567, 0.9267, 0.94, 0.9699, 0.9498, 0.8662], [0.9533, 0.94, 0.9533, 0.9732, 0.9766, 0.9197], [0.9367, 0.9567, 0.94, 0.9699, 0.9866, 0.9331]]\n"
     ]
    }
   ],
   "source": [
    "print(acc_fold_train_3)\n",
    "print(acc_fold_test_3)"
   ]
  },
  {
   "cell_type": "code",
   "execution_count": null,
   "metadata": {},
   "outputs": [
    {
     "data": {
      "text/html": [
       "<div>\n",
       "<style scoped>\n",
       "    .dataframe tbody tr th:only-of-type {\n",
       "        vertical-align: middle;\n",
       "    }\n",
       "\n",
       "    .dataframe tbody tr th {\n",
       "        vertical-align: top;\n",
       "    }\n",
       "\n",
       "    .dataframe thead th {\n",
       "        text-align: right;\n",
       "    }\n",
       "</style>\n",
       "<table border=\"1\" class=\"dataframe\">\n",
       "  <thead>\n",
       "    <tr style=\"text-align: right;\">\n",
       "      <th></th>\n",
       "      <th>n_nodes</th>\n",
       "      <th>n hidden layers</th>\n",
       "      <th>mean train accuracies</th>\n",
       "      <th>mean test accuracies</th>\n",
       "      <th>difference</th>\n",
       "    </tr>\n",
       "  </thead>\n",
       "  <tbody>\n",
       "    <tr>\n",
       "      <th>0</th>\n",
       "      <td>10</td>\n",
       "      <td>100</td>\n",
       "      <td>1.0</td>\n",
       "      <td>0.9349</td>\n",
       "      <td>0.0651</td>\n",
       "    </tr>\n",
       "    <tr>\n",
       "      <th>1</th>\n",
       "      <td>64</td>\n",
       "      <td>150</td>\n",
       "      <td>1.0</td>\n",
       "      <td>0.9527</td>\n",
       "      <td>0.0473</td>\n",
       "    </tr>\n",
       "    <tr>\n",
       "      <th>2</th>\n",
       "      <td>128</td>\n",
       "      <td>200</td>\n",
       "      <td>1.0</td>\n",
       "      <td>0.9538</td>\n",
       "      <td>0.0462</td>\n",
       "    </tr>\n",
       "  </tbody>\n",
       "</table>\n",
       "</div>"
      ],
      "text/plain": [
       "   n_nodes  n hidden layers  mean train accuracies  mean test accuracies  \\\n",
       "0       10              100                    1.0                0.9349   \n",
       "1       64              150                    1.0                0.9527   \n",
       "2      128              200                    1.0                0.9538   \n",
       "\n",
       "   difference  \n",
       "0      0.0651  \n",
       "1      0.0473  \n",
       "2      0.0462  "
      ]
     },
     "execution_count": 896,
     "metadata": {},
     "output_type": "execute_result"
    }
   ],
   "source": [
    "dict_7 = \\\n",
    "{'n_nodes': nodes_list_3,\n",
    " 'n hidden layers': [100, 150, 200], \n",
    " 'mean train accuracies': acc_mean_train_3,\n",
    " 'mean test accuracies': acc_mean_test_3 }\n",
    "\n",
    "df_7 = pd.DataFrame(dict_7)\n",
    "df_7['difference'] = \\\n",
    "df_7['mean train accuracies'] - df_7['mean test accuracies']\n",
    "\n",
    "df_7"
   ]
  },
  {
   "cell_type": "code",
   "execution_count": null,
   "metadata": {},
   "outputs": [],
   "source": [
    "acc_fold_train_4 = []\n",
    "acc_mean_train_4 = []\n",
    "\n",
    "acc_fold_test_4 = []\n",
    "acc_mean_test_4 = []\n",
    "\n",
    "nodes_list_4 = [10,64,128]\n",
    "\n",
    "for nodes in nodes_list_4:\n",
    "    \n",
    "    train_fold, train_mean, test_fold, test_mean = \\\n",
    "    cv_mlpclf(X_features=data_df, y_label=target_df, \n",
    "              splits=6, nodes=nodes, hidden=100)\n",
    "    \n",
    "    acc_fold_train_4.append(train_fold)\n",
    "    acc_mean_train_4.append(train_mean)\n",
    "    \n",
    "    acc_fold_test_4.append(test_fold)\n",
    "    acc_mean_test_4.append(test_mean)\n",
    "\n",
    "\n"
   ]
  },
  {
   "cell_type": "code",
   "execution_count": null,
   "metadata": {},
   "outputs": [
    {
     "name": "stdout",
     "output_type": "stream",
     "text": [
      "[[1.0, 1.0, 1.0, 1.0, 1.0, 1.0], [1.0, 1.0, 1.0, 1.0, 1.0, 1.0], [1.0, 1.0, 1.0, 1.0, 1.0, 1.0]]\n",
      "[[0.9567, 0.9267, 0.94, 0.9699, 0.9498, 0.8662], [0.9533, 0.94, 0.9533, 0.9732, 0.9766, 0.9197], [0.9367, 0.9567, 0.94, 0.9699, 0.9866, 0.9331]]\n"
     ]
    }
   ],
   "source": [
    "print(acc_fold_train_3)\n",
    "print(acc_fold_test_3)"
   ]
  },
  {
   "cell_type": "code",
   "execution_count": null,
   "metadata": {},
   "outputs": [
    {
     "data": {
      "text/html": [
       "<div>\n",
       "<style scoped>\n",
       "    .dataframe tbody tr th:only-of-type {\n",
       "        vertical-align: middle;\n",
       "    }\n",
       "\n",
       "    .dataframe tbody tr th {\n",
       "        vertical-align: top;\n",
       "    }\n",
       "\n",
       "    .dataframe thead th {\n",
       "        text-align: right;\n",
       "    }\n",
       "</style>\n",
       "<table border=\"1\" class=\"dataframe\">\n",
       "  <thead>\n",
       "    <tr style=\"text-align: right;\">\n",
       "      <th></th>\n",
       "      <th>n_nodes</th>\n",
       "      <th>n hidden layers</th>\n",
       "      <th>mean train accuracies</th>\n",
       "      <th>mean test accuracies</th>\n",
       "      <th>difference</th>\n",
       "    </tr>\n",
       "  </thead>\n",
       "  <tbody>\n",
       "    <tr>\n",
       "      <th>0</th>\n",
       "      <td>10</td>\n",
       "      <td>100</td>\n",
       "      <td>1.0</td>\n",
       "      <td>0.9226</td>\n",
       "      <td>0.0774</td>\n",
       "    </tr>\n",
       "    <tr>\n",
       "      <th>1</th>\n",
       "      <td>64</td>\n",
       "      <td>150</td>\n",
       "      <td>1.0</td>\n",
       "      <td>0.9605</td>\n",
       "      <td>0.0395</td>\n",
       "    </tr>\n",
       "    <tr>\n",
       "      <th>2</th>\n",
       "      <td>128</td>\n",
       "      <td>200</td>\n",
       "      <td>1.0</td>\n",
       "      <td>0.9577</td>\n",
       "      <td>0.0423</td>\n",
       "    </tr>\n",
       "  </tbody>\n",
       "</table>\n",
       "</div>"
      ],
      "text/plain": [
       "   n_nodes  n hidden layers  mean train accuracies  mean test accuracies  \\\n",
       "0       10              100                    1.0                0.9226   \n",
       "1       64              150                    1.0                0.9605   \n",
       "2      128              200                    1.0                0.9577   \n",
       "\n",
       "   difference  \n",
       "0      0.0774  \n",
       "1      0.0395  \n",
       "2      0.0423  "
      ]
     },
     "execution_count": 899,
     "metadata": {},
     "output_type": "execute_result"
    }
   ],
   "source": [
    "dict_8 = \\\n",
    "{'n_nodes': nodes_list_4,\n",
    " 'n hidden layers': [100, 150, 200], \n",
    " 'mean train accuracies': acc_mean_train_4,\n",
    " 'mean test accuracies': acc_mean_test_4 }\n",
    "\n",
    "df_8 = pd.DataFrame(dict_8)\n",
    "df_8['difference'] = \\\n",
    "df_8['mean train accuracies'] - df_8['mean test accuracies']\n",
    "\n",
    "df_8"
   ]
  },
  {
   "cell_type": "code",
   "execution_count": null,
   "metadata": {},
   "outputs": [
    {
     "data": {
      "text/html": [
       "<div>\n",
       "<style scoped>\n",
       "    .dataframe tbody tr th:only-of-type {\n",
       "        vertical-align: middle;\n",
       "    }\n",
       "\n",
       "    .dataframe tbody tr th {\n",
       "        vertical-align: top;\n",
       "    }\n",
       "\n",
       "    .dataframe thead th {\n",
       "        text-align: right;\n",
       "    }\n",
       "</style>\n",
       "<table border=\"1\" class=\"dataframe\">\n",
       "  <thead>\n",
       "    <tr style=\"text-align: right;\">\n",
       "      <th></th>\n",
       "      <th>model</th>\n",
       "      <th>accuracy</th>\n",
       "    </tr>\n",
       "  </thead>\n",
       "  <tbody>\n",
       "    <tr>\n",
       "      <th>0</th>\n",
       "      <td>knn_9</td>\n",
       "      <td>0.99259</td>\n",
       "    </tr>\n",
       "    <tr>\n",
       "      <th>1</th>\n",
       "      <td>knn_5</td>\n",
       "      <td>0.99260</td>\n",
       "    </tr>\n",
       "    <tr>\n",
       "      <th>2</th>\n",
       "      <td>kfold_cv_1</td>\n",
       "      <td>0.96710</td>\n",
       "    </tr>\n",
       "    <tr>\n",
       "      <th>3</th>\n",
       "      <td>kfold_cv_splits_3</td>\n",
       "      <td>0.96710</td>\n",
       "    </tr>\n",
       "    <tr>\n",
       "      <th>4</th>\n",
       "      <td>kfold_cv_splits_9</td>\n",
       "      <td>0.96110</td>\n",
       "    </tr>\n",
       "    <tr>\n",
       "      <th>5</th>\n",
       "      <td>MLP_100_3_hidden</td>\n",
       "      <td>0.62160</td>\n",
       "    </tr>\n",
       "    <tr>\n",
       "      <th>6</th>\n",
       "      <td>MLP_100_8_nodes</td>\n",
       "      <td>0.81970</td>\n",
       "    </tr>\n",
       "    <tr>\n",
       "      <th>7</th>\n",
       "      <td>MLP_100_hidden_70_nodes</td>\n",
       "      <td>0.93710</td>\n",
       "    </tr>\n",
       "    <tr>\n",
       "      <th>8</th>\n",
       "      <td>MLP_200_hidden_128_nodes</td>\n",
       "      <td>0.95990</td>\n",
       "    </tr>\n",
       "  </tbody>\n",
       "</table>\n",
       "</div>"
      ],
      "text/plain": [
       "                      model  accuracy\n",
       "0                     knn_9   0.99259\n",
       "1                     knn_5   0.99260\n",
       "2                kfold_cv_1   0.96710\n",
       "3         kfold_cv_splits_3   0.96710\n",
       "4         kfold_cv_splits_9   0.96110\n",
       "5          MLP_100_3_hidden   0.62160\n",
       "6           MLP_100_8_nodes   0.81970\n",
       "7   MLP_100_hidden_70_nodes   0.93710\n",
       "8  MLP_200_hidden_128_nodes   0.95990"
      ]
     },
     "execution_count": 900,
     "metadata": {},
     "output_type": "execute_result"
    }
   ],
   "source": [
    "newrow_66 = {'model': 'MLP_200_hidden_128_nodes' , 'accuracy': 0.9599}\n",
    "\n",
    "df_2 = df_2.append(newrow_66, ignore_index=True)\n",
    "df_2"
   ]
  },
  {
   "cell_type": "markdown",
   "metadata": {},
   "source": [
    "### Scaling"
   ]
  },
  {
   "cell_type": "markdown",
   "metadata": {},
   "source": [
    "<p>\n",
    "Following the documentation on \n",
    "<a href=\"https://scikit-learn.org/stable/modules/neural_networks_supervised.html\">\n",
    "Neural network models</a> Scaling is highly recommended:\n",
    "</p> \n",
    "<p>The Multi-layer Perceptron is sensitive to feature scaling, so it is highly recommended to scale your data. \n",
    "For example, scale each attribute on the input vector \n",
    "X to [0, 1] or [-1, +1], or standardize it to have \n",
    "mean 0 and variance 1. Note that you must apply the same scaling to the test set for meaningful results. \n",
    "You can use StandardScaler for standardization.</p> \n",
    "\n"
   ]
  },
  {
   "cell_type": "code",
   "execution_count": null,
   "metadata": {},
   "outputs": [],
   "source": [
    "def cv_mlp_scaler(X_features, y_label, splits, nodes, hidden,\n",
    "                  activation='relu'):\n",
    "\n",
    "    train_fold_acc = []\n",
    "    test_fold_acc = []\n",
    "\n",
    "    kf = KFold(n_splits=splits)\n",
    "    for train_index, test_index in kf.split(X_features):\n",
    "        X_train, X_test = \\\n",
    "        X_features.loc[train_index], X_features.loc[test_index]\n",
    "        y_train, y_test = \\\n",
    "        y_label.loc[train_index], y_label.loc[test_index]\n",
    "        \n",
    "        # making sure a one dimensional numpy array is provided\n",
    "        if isinstance(y_train, pd.DataFrame) \\\n",
    "        or isinstance(y_train, list):\n",
    "            y_train = np.array(y_train).ravel()\n",
    "            \n",
    "        # making the standard scaler available\n",
    "        scaler = StandardScaler()\n",
    "        # fit scaler to the splitted data\n",
    "        scaler.fit(X_train) \n",
    "        X_train = scaler.transform(X_train) \n",
    "        # apply same transformation to test data\n",
    "        scaler.fit(X_test)\n",
    "        X_test = scaler.transform(X_test)  \n",
    "        \n",
    "        \n",
    "        mlp = \\\n",
    "        MLPClassifier(hidden_layer_sizes=(nodes, hidden), \n",
    "                      max_iter=10000)\n",
    "        mlp.fit(X_train, y_train )\n",
    "        \n",
    "        \n",
    "        mlp_predictions = mlp.predict(X_test)\n",
    "        accuracy_test = \\\n",
    "        round(accuracy_score(y_test, mlp_predictions), 4)\n",
    "        test_fold_acc.append(accuracy_test)\n",
    "        mean_test_acc = \\\n",
    "        round(np.mean(test_fold_acc), 4)\n",
    "    \n",
    "        \n",
    "        mlp_predictions = mlp.predict(X_train)\n",
    "        accuracy_train = \\\n",
    "        round(accuracy_score(y_train, mlp_predictions), 4)       \n",
    "        train_fold_acc.append(accuracy_train)\n",
    "        mean_train_acc = \\\n",
    "        round(np.mean(train_fold_acc), 4)\n",
    "    \n",
    "    return (train_fold_acc, mean_train_acc,\n",
    "            test_fold_acc, mean_test_acc)  "
   ]
  },
  {
   "cell_type": "code",
   "execution_count": null,
   "metadata": {},
   "outputs": [],
   "source": [
    "acc_fold_train_5 = []\n",
    "acc_mean_train_5 = []\n",
    "\n",
    "acc_fold_test_5 = []\n",
    "acc_mean_test_5 = []\n",
    "\n",
    "nodes_list_5 = [10,65,128]\n",
    "hidden_layers_list_5 = [100, 150, 200]\n",
    "\n",
    "for hl, nodes in zip(hidden_layers_list_5, nodes_list_5) :\n",
    "    \n",
    "    train_fold, train_mean, test_fold, test_mean = \\\n",
    "    cv_mlp_scaler(X_features=data_df, y_label=target_df, \n",
    "                  splits=6, nodes=nodes, hidden=hl)\n",
    "    \n",
    "    acc_fold_train_5.append(train_fold)\n",
    "    acc_mean_train_5.append(train_mean)\n",
    "    \n",
    "    acc_fold_test_5.append(test_fold)\n",
    "    acc_mean_test_5.append(test_mean)"
   ]
  },
  {
   "cell_type": "code",
   "execution_count": null,
   "metadata": {},
   "outputs": [
    {
     "name": "stdout",
     "output_type": "stream",
     "text": [
      "[[1.0, 1.0, 1.0, 1.0, 1.0, 1.0], [1.0, 1.0, 1.0, 1.0, 1.0, 1.0], [1.0, 1.0, 1.0, 1.0, 1.0, 1.0]]\n",
      "[[0.93, 0.9433, 0.91, 0.9465, 0.9732, 0.9064], [0.95, 0.9667, 0.9533, 0.9732, 0.9799, 0.9231], [0.95, 0.9667, 0.94, 0.9799, 0.9933, 0.9197]]\n"
     ]
    }
   ],
   "source": [
    "print(acc_fold_train_5)\n",
    "print(acc_fold_test_5)"
   ]
  },
  {
   "cell_type": "code",
   "execution_count": null,
   "metadata": {},
   "outputs": [
    {
     "data": {
      "text/html": [
       "<div>\n",
       "<style scoped>\n",
       "    .dataframe tbody tr th:only-of-type {\n",
       "        vertical-align: middle;\n",
       "    }\n",
       "\n",
       "    .dataframe tbody tr th {\n",
       "        vertical-align: top;\n",
       "    }\n",
       "\n",
       "    .dataframe thead th {\n",
       "        text-align: right;\n",
       "    }\n",
       "</style>\n",
       "<table border=\"1\" class=\"dataframe\">\n",
       "  <thead>\n",
       "    <tr style=\"text-align: right;\">\n",
       "      <th></th>\n",
       "      <th>n_nodes</th>\n",
       "      <th>n hidden layers</th>\n",
       "      <th>mean train accuracies</th>\n",
       "      <th>mean test accuracies</th>\n",
       "      <th>difference</th>\n",
       "    </tr>\n",
       "  </thead>\n",
       "  <tbody>\n",
       "    <tr>\n",
       "      <th>0</th>\n",
       "      <td>10</td>\n",
       "      <td>100</td>\n",
       "      <td>1.0</td>\n",
       "      <td>0.9349</td>\n",
       "      <td>0.0651</td>\n",
       "    </tr>\n",
       "    <tr>\n",
       "      <th>1</th>\n",
       "      <td>65</td>\n",
       "      <td>150</td>\n",
       "      <td>1.0</td>\n",
       "      <td>0.9577</td>\n",
       "      <td>0.0423</td>\n",
       "    </tr>\n",
       "    <tr>\n",
       "      <th>2</th>\n",
       "      <td>128</td>\n",
       "      <td>200</td>\n",
       "      <td>1.0</td>\n",
       "      <td>0.9583</td>\n",
       "      <td>0.0417</td>\n",
       "    </tr>\n",
       "  </tbody>\n",
       "</table>\n",
       "</div>"
      ],
      "text/plain": [
       "   n_nodes  n hidden layers  mean train accuracies  mean test accuracies  \\\n",
       "0       10              100                    1.0                0.9349   \n",
       "1       65              150                    1.0                0.9577   \n",
       "2      128              200                    1.0                0.9583   \n",
       "\n",
       "   difference  \n",
       "0      0.0651  \n",
       "1      0.0423  \n",
       "2      0.0417  "
      ]
     },
     "execution_count": 904,
     "metadata": {},
     "output_type": "execute_result"
    }
   ],
   "source": [
    "dict_9 = \\\n",
    "{'n_nodes': nodes_list_5,\n",
    " 'n hidden layers': hidden_layers_list_5, \n",
    " 'mean train accuracies': acc_mean_train_5 ,\n",
    " 'mean test accuracies': acc_mean_test_5}\n",
    "\n",
    "df_9 = pd.DataFrame(dict_9)\n",
    "df_9['difference'] = \\\n",
    "df_9['mean train accuracies'] - df_9['mean test accuracies']\n",
    "\n",
    "df_9"
   ]
  },
  {
   "cell_type": "markdown",
   "metadata": {},
   "source": [
    "Scaling resulted not immediately in better outputs. \n",
    "Scaling is of course depending on the distribution of the data."
   ]
  },
  {
   "cell_type": "code",
   "execution_count": null,
   "metadata": {},
   "outputs": [
    {
     "data": {
      "text/html": [
       "<div>\n",
       "<style scoped>\n",
       "    .dataframe tbody tr th:only-of-type {\n",
       "        vertical-align: middle;\n",
       "    }\n",
       "\n",
       "    .dataframe tbody tr th {\n",
       "        vertical-align: top;\n",
       "    }\n",
       "\n",
       "    .dataframe thead th {\n",
       "        text-align: right;\n",
       "    }\n",
       "</style>\n",
       "<table border=\"1\" class=\"dataframe\">\n",
       "  <thead>\n",
       "    <tr style=\"text-align: right;\">\n",
       "      <th></th>\n",
       "      <th>model</th>\n",
       "      <th>accuracy</th>\n",
       "    </tr>\n",
       "  </thead>\n",
       "  <tbody>\n",
       "    <tr>\n",
       "      <th>0</th>\n",
       "      <td>knn_9</td>\n",
       "      <td>0.99259</td>\n",
       "    </tr>\n",
       "    <tr>\n",
       "      <th>1</th>\n",
       "      <td>knn_5</td>\n",
       "      <td>0.99260</td>\n",
       "    </tr>\n",
       "    <tr>\n",
       "      <th>2</th>\n",
       "      <td>kfold_cv_1</td>\n",
       "      <td>0.96710</td>\n",
       "    </tr>\n",
       "    <tr>\n",
       "      <th>3</th>\n",
       "      <td>kfold_cv_splits_3</td>\n",
       "      <td>0.96710</td>\n",
       "    </tr>\n",
       "    <tr>\n",
       "      <th>4</th>\n",
       "      <td>kfold_cv_splits_9</td>\n",
       "      <td>0.96110</td>\n",
       "    </tr>\n",
       "    <tr>\n",
       "      <th>5</th>\n",
       "      <td>MLP_100_3_hidden</td>\n",
       "      <td>0.62160</td>\n",
       "    </tr>\n",
       "    <tr>\n",
       "      <th>6</th>\n",
       "      <td>MLP_100_8_nodes</td>\n",
       "      <td>0.81970</td>\n",
       "    </tr>\n",
       "    <tr>\n",
       "      <th>7</th>\n",
       "      <td>MLP_100_hidden_70_nodes</td>\n",
       "      <td>0.93710</td>\n",
       "    </tr>\n",
       "    <tr>\n",
       "      <th>8</th>\n",
       "      <td>MLP_200_hidden_128_nodes</td>\n",
       "      <td>0.95990</td>\n",
       "    </tr>\n",
       "    <tr>\n",
       "      <th>9</th>\n",
       "      <td>MLP_200_hidden_128_nodes_scaled</td>\n",
       "      <td>0.95660</td>\n",
       "    </tr>\n",
       "  </tbody>\n",
       "</table>\n",
       "</div>"
      ],
      "text/plain": [
       "                             model  accuracy\n",
       "0                            knn_9   0.99259\n",
       "1                            knn_5   0.99260\n",
       "2                       kfold_cv_1   0.96710\n",
       "3                kfold_cv_splits_3   0.96710\n",
       "4                kfold_cv_splits_9   0.96110\n",
       "5                 MLP_100_3_hidden   0.62160\n",
       "6                  MLP_100_8_nodes   0.81970\n",
       "7          MLP_100_hidden_70_nodes   0.93710\n",
       "8         MLP_200_hidden_128_nodes   0.95990\n",
       "9  MLP_200_hidden_128_nodes_scaled   0.95660"
      ]
     },
     "execution_count": 905,
     "metadata": {},
     "output_type": "execute_result"
    }
   ],
   "source": [
    "newrow_77 = {'model': 'MLP_200_hidden_128_nodes_scaled' , 'accuracy': 0.9566}\n",
    "\n",
    "df_2 = df_2.append(newrow_77, ignore_index=True)\n",
    "df_2"
   ]
  },
  {
   "cell_type": "markdown",
   "metadata": {},
   "source": [
    "## Data modeling with Support vector machines\n",
    "<p>\n",
    "Support vector machines are now applied to recognize hand-written digits. Here a base model is developed. Further hyper\n",
    "parameter tuning is not conducted. Further approaches are to\n",
    "to be found directly on\n",
    "<a href=\"https://scikit-learn.org/stable/auto_examples/classification/plot_digits_classification.html#sphx-glr-auto-examples-classification-plot-digits-classification-py\">scikit learn</a>. \n",
    "</p> "
   ]
  },
  {
   "cell_type": "code",
   "execution_count": null,
   "metadata": {},
   "outputs": [],
   "source": [
    "def cv_svm_scaler(X_features, y_label, splits):\n",
    "\n",
    "    train_fold_acc = []\n",
    "    test_fold_acc = []\n",
    "\n",
    "    kf = KFold(n_splits=splits)\n",
    "    for train_index, test_index in kf.split(X_features):\n",
    "        X_train, X_test = \\\n",
    "        X_features.loc[train_index], X_features.loc[test_index]\n",
    "        y_train, y_test = \\\n",
    "        y_label.loc[train_index], y_label.loc[test_index]\n",
    "        \n",
    "        # making sure a one dimensional numpy array is provided\n",
    "        if isinstance(y_train, pd.DataFrame) \\\n",
    "        or isinstance(y_train, list):\n",
    "            y_train = np.array(y_train).ravel()\n",
    "            \n",
    "        # making the standard scaler available\n",
    "        scaler = StandardScaler()\n",
    "        # fit scaler to the splitted data\n",
    "        scaler.fit(X_train) \n",
    "        X_train = scaler.transform(X_train) \n",
    "        # apply same transformation to test data\n",
    "        scaler.fit(X_test)\n",
    "        X_test = scaler.transform(X_test)  \n",
    "        \n",
    "        \n",
    "        svm_clf = svm.SVC(gamma=0.001)\n",
    "        \n",
    "        svm_clf.fit(X_train, y_train )\n",
    "        \n",
    "        \n",
    "        svm_predictions = svm_clf.predict(X_test)\n",
    "        accuracy_test = \\\n",
    "        round(accuracy_score(y_test, svm_predictions), 4)\n",
    "        test_fold_acc.append(accuracy_test)\n",
    "        mean_test_acc = \\\n",
    "        round(np.mean(test_fold_acc), 4)\n",
    "    \n",
    "        \n",
    "        svm_predictions = svm_clf.predict(X_train)\n",
    "        accuracy_train = \\\n",
    "        round(accuracy_score(y_train, svm_predictions), 4)       \n",
    "        train_fold_acc.append(accuracy_train)\n",
    "        mean_train_acc = \\\n",
    "        round(np.mean(train_fold_acc), 4)\n",
    "    \n",
    "    return (train_fold_acc, mean_train_acc,\n",
    "            test_fold_acc, mean_test_acc)"
   ]
  },
  {
   "cell_type": "code",
   "execution_count": null,
   "metadata": {},
   "outputs": [],
   "source": [
    "train_fold_svm, train_mean_svm, test_fold_svm, test_mean_svm = \\\n",
    "cv_svm_scaler(X_features=data_df, y_label=target_df, splits=6)"
   ]
  },
  {
   "cell_type": "code",
   "execution_count": null,
   "metadata": {},
   "outputs": [],
   "source": [
    "print(train_fold_svm)\n",
    "print(train_mean_svm)\n",
    "print(test_fold_svm)\n",
    "print(test_mean_svm)"
   ]
  },
  {
   "cell_type": "code",
   "execution_count": null,
   "metadata": {},
   "outputs": [],
   "source": [
    "newrow_88 = {'model': 'svm_scaled_1' , 'accuracy': 0.936}\n",
    "\n",
    "df_2 = df_2.append(newrow_88, ignore_index=True)\n",
    "df_2"
   ]
  },
  {
   "cell_type": "markdown",
   "metadata": {},
   "source": [
    "The accuracy is with 0.93600 not better than in other models.\n",
    "However this is only the beginning of investigating the \n",
    "opportunities of support vector machines, which is not \n",
    "conducted here as stated above."
   ]
  },
  {
   "cell_type": "markdown",
   "metadata": {},
   "source": [
    "### Conclusion\n",
    "\n",
    "<p>The simple knn models perform best. This is not unexpected\n",
    "because of using a simple train test split, which make\n",
    "distortions in the modeling process possible due to chance in \n",
    "the assignment of the data to the train-test groups. \n",
    "Cross validation reduces the variability in the outcome and\n",
    "makes predictions more stable. Overall the accuracies of some\n",
    "models remain high anyway. </p> \n",
    "\n",
    "<p>Concerning the neural networks increasing hidden layers and nodes results in better outputs like the research\n",
    "is telling.</p> \n",
    "\n",
    "\n",
    "<p>Of course further hyperparameter tuning can \n",
    "be done and also other algorithms like support vector\n",
    "machines can be applied.</p> \n"
   ]
  },
  {
   "cell_type": "code",
   "execution_count": null,
   "metadata": {},
   "outputs": [],
   "source": []
  }
 ],
 "metadata": {
  "kernelspec": {
   "display_name": "Python 3",
   "language": "python",
   "name": "python3"
  },
  "language_info": {
   "codemirror_mode": {
    "name": "ipython",
    "version": 3
   },
   "file_extension": ".py",
   "mimetype": "text/x-python",
   "name": "python",
   "nbconvert_exporter": "python",
   "pygments_lexer": "ipython3",
   "version": "3.7.3"
  }
 },
 "nbformat": 4,
 "nbformat_minor": 2
}
